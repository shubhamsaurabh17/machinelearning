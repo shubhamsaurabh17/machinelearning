{
  "nbformat": 4,
  "nbformat_minor": 0,
  "metadata": {
    "colab": {
      "name": "Bank_customer_churn_prediction.ipynb",
      "provenance": []
    },
    "kernelspec": {
      "name": "python3",
      "display_name": "Python 3"
    }
  },
  "cells": [
    {
      "cell_type": "markdown",
      "metadata": {
        "id": "ibmQvxU_mHIQ",
        "colab_type": "text"
      },
      "source": [
        "### **Importing Libraries**"
      ]
    },
    {
      "cell_type": "code",
      "metadata": {
        "id": "PLWuUgh82ZGG",
        "colab_type": "code",
        "colab": {}
      },
      "source": [
        "# Importing Necessary Libraries\n",
        "import numpy as np\n",
        "import pandas as pd \n",
        "import matplotlib.pyplot as plt\n",
        "import plotly.offline as po\n",
        "import plotly.graph_objs as go\n",
        "%matplotlib inline"
      ],
      "execution_count": 1,
      "outputs": []
    },
    {
      "cell_type": "markdown",
      "metadata": {
        "id": "qeN8BOr7mZn4",
        "colab_type": "text"
      },
      "source": [
        "### **Reading Dataset**"
      ]
    },
    {
      "cell_type": "code",
      "metadata": {
        "id": "tRyswdjo4Udf",
        "colab_type": "code",
        "colab": {
          "base_uri": "https://localhost:8080/",
          "height": 224
        },
        "outputId": "1f46ff22-96d5-4b3c-dc54-ef00297b817f"
      },
      "source": [
        "# Importing the dataset\n",
        "churn_data=pd.read_csv('churn_prediction.csv')\n",
        "churn_data.head()"
      ],
      "execution_count": 2,
      "outputs": [
        {
          "output_type": "execute_result",
          "data": {
            "text/html": [
              "<div>\n",
              "<style scoped>\n",
              "    .dataframe tbody tr th:only-of-type {\n",
              "        vertical-align: middle;\n",
              "    }\n",
              "\n",
              "    .dataframe tbody tr th {\n",
              "        vertical-align: top;\n",
              "    }\n",
              "\n",
              "    .dataframe thead th {\n",
              "        text-align: right;\n",
              "    }\n",
              "</style>\n",
              "<table border=\"1\" class=\"dataframe\">\n",
              "  <thead>\n",
              "    <tr style=\"text-align: right;\">\n",
              "      <th></th>\n",
              "      <th>customer_id</th>\n",
              "      <th>vintage</th>\n",
              "      <th>age</th>\n",
              "      <th>gender</th>\n",
              "      <th>dependents</th>\n",
              "      <th>occupation</th>\n",
              "      <th>city</th>\n",
              "      <th>customer_nw_category</th>\n",
              "      <th>branch_code</th>\n",
              "      <th>days_since_last_transaction</th>\n",
              "      <th>current_balance</th>\n",
              "      <th>previous_month_end_balance</th>\n",
              "      <th>average_monthly_balance_prevQ</th>\n",
              "      <th>average_monthly_balance_prevQ2</th>\n",
              "      <th>current_month_credit</th>\n",
              "      <th>previous_month_credit</th>\n",
              "      <th>current_month_debit</th>\n",
              "      <th>previous_month_debit</th>\n",
              "      <th>current_month_balance</th>\n",
              "      <th>previous_month_balance</th>\n",
              "      <th>churn</th>\n",
              "    </tr>\n",
              "  </thead>\n",
              "  <tbody>\n",
              "    <tr>\n",
              "      <th>0</th>\n",
              "      <td>1</td>\n",
              "      <td>3135</td>\n",
              "      <td>66</td>\n",
              "      <td>Male</td>\n",
              "      <td>0.0</td>\n",
              "      <td>self_employed</td>\n",
              "      <td>187.0</td>\n",
              "      <td>2</td>\n",
              "      <td>755</td>\n",
              "      <td>224.0</td>\n",
              "      <td>1458.71</td>\n",
              "      <td>1458.71</td>\n",
              "      <td>1458.71</td>\n",
              "      <td>1449.07</td>\n",
              "      <td>0.20</td>\n",
              "      <td>0.20</td>\n",
              "      <td>0.20</td>\n",
              "      <td>0.20</td>\n",
              "      <td>1458.71</td>\n",
              "      <td>1458.71</td>\n",
              "      <td>0</td>\n",
              "    </tr>\n",
              "    <tr>\n",
              "      <th>1</th>\n",
              "      <td>2</td>\n",
              "      <td>310</td>\n",
              "      <td>35</td>\n",
              "      <td>Male</td>\n",
              "      <td>0.0</td>\n",
              "      <td>self_employed</td>\n",
              "      <td>NaN</td>\n",
              "      <td>2</td>\n",
              "      <td>3214</td>\n",
              "      <td>60.0</td>\n",
              "      <td>5390.37</td>\n",
              "      <td>8704.66</td>\n",
              "      <td>7799.26</td>\n",
              "      <td>12419.41</td>\n",
              "      <td>0.56</td>\n",
              "      <td>0.56</td>\n",
              "      <td>5486.27</td>\n",
              "      <td>100.56</td>\n",
              "      <td>6496.78</td>\n",
              "      <td>8787.61</td>\n",
              "      <td>0</td>\n",
              "    </tr>\n",
              "    <tr>\n",
              "      <th>2</th>\n",
              "      <td>4</td>\n",
              "      <td>2356</td>\n",
              "      <td>31</td>\n",
              "      <td>Male</td>\n",
              "      <td>0.0</td>\n",
              "      <td>salaried</td>\n",
              "      <td>146.0</td>\n",
              "      <td>2</td>\n",
              "      <td>41</td>\n",
              "      <td>NaN</td>\n",
              "      <td>3913.16</td>\n",
              "      <td>5815.29</td>\n",
              "      <td>4910.17</td>\n",
              "      <td>2815.94</td>\n",
              "      <td>0.61</td>\n",
              "      <td>0.61</td>\n",
              "      <td>6046.73</td>\n",
              "      <td>259.23</td>\n",
              "      <td>5006.28</td>\n",
              "      <td>5070.14</td>\n",
              "      <td>0</td>\n",
              "    </tr>\n",
              "    <tr>\n",
              "      <th>3</th>\n",
              "      <td>5</td>\n",
              "      <td>478</td>\n",
              "      <td>90</td>\n",
              "      <td>NaN</td>\n",
              "      <td>NaN</td>\n",
              "      <td>self_employed</td>\n",
              "      <td>1020.0</td>\n",
              "      <td>2</td>\n",
              "      <td>582</td>\n",
              "      <td>147.0</td>\n",
              "      <td>2291.91</td>\n",
              "      <td>2291.91</td>\n",
              "      <td>2084.54</td>\n",
              "      <td>1006.54</td>\n",
              "      <td>0.47</td>\n",
              "      <td>0.47</td>\n",
              "      <td>0.47</td>\n",
              "      <td>2143.33</td>\n",
              "      <td>2291.91</td>\n",
              "      <td>1669.79</td>\n",
              "      <td>1</td>\n",
              "    </tr>\n",
              "    <tr>\n",
              "      <th>4</th>\n",
              "      <td>6</td>\n",
              "      <td>2531</td>\n",
              "      <td>42</td>\n",
              "      <td>Male</td>\n",
              "      <td>2.0</td>\n",
              "      <td>self_employed</td>\n",
              "      <td>1494.0</td>\n",
              "      <td>3</td>\n",
              "      <td>388</td>\n",
              "      <td>58.0</td>\n",
              "      <td>927.72</td>\n",
              "      <td>1401.72</td>\n",
              "      <td>1643.31</td>\n",
              "      <td>1871.12</td>\n",
              "      <td>0.33</td>\n",
              "      <td>714.61</td>\n",
              "      <td>588.62</td>\n",
              "      <td>1538.06</td>\n",
              "      <td>1157.15</td>\n",
              "      <td>1677.16</td>\n",
              "      <td>1</td>\n",
              "    </tr>\n",
              "  </tbody>\n",
              "</table>\n",
              "</div>"
            ],
            "text/plain": [
              "   customer_id  vintage  ...  previous_month_balance churn\n",
              "0            1     3135  ...                 1458.71     0\n",
              "1            2      310  ...                 8787.61     0\n",
              "2            4     2356  ...                 5070.14     0\n",
              "3            5      478  ...                 1669.79     1\n",
              "4            6     2531  ...                 1677.16     1\n",
              "\n",
              "[5 rows x 21 columns]"
            ]
          },
          "metadata": {
            "tags": []
          },
          "execution_count": 2
        }
      ]
    },
    {
      "cell_type": "markdown",
      "metadata": {
        "id": "zvf4z8Komezc",
        "colab_type": "text"
      },
      "source": [
        "### **Data Exploration**"
      ]
    },
    {
      "cell_type": "code",
      "metadata": {
        "id": "Vj7D3Mlu8jXB",
        "colab_type": "code",
        "colab": {
          "base_uri": "https://localhost:8080/",
          "height": 317
        },
        "outputId": "4b532294-ca3e-42a4-dc21-359d263e91b1"
      },
      "source": [
        "# Viewing some relevant information about data\n",
        "churn_data.describe()"
      ],
      "execution_count": 3,
      "outputs": [
        {
          "output_type": "execute_result",
          "data": {
            "text/html": [
              "<div>\n",
              "<style scoped>\n",
              "    .dataframe tbody tr th:only-of-type {\n",
              "        vertical-align: middle;\n",
              "    }\n",
              "\n",
              "    .dataframe tbody tr th {\n",
              "        vertical-align: top;\n",
              "    }\n",
              "\n",
              "    .dataframe thead th {\n",
              "        text-align: right;\n",
              "    }\n",
              "</style>\n",
              "<table border=\"1\" class=\"dataframe\">\n",
              "  <thead>\n",
              "    <tr style=\"text-align: right;\">\n",
              "      <th></th>\n",
              "      <th>customer_id</th>\n",
              "      <th>vintage</th>\n",
              "      <th>age</th>\n",
              "      <th>dependents</th>\n",
              "      <th>city</th>\n",
              "      <th>customer_nw_category</th>\n",
              "      <th>branch_code</th>\n",
              "      <th>days_since_last_transaction</th>\n",
              "      <th>current_balance</th>\n",
              "      <th>previous_month_end_balance</th>\n",
              "      <th>average_monthly_balance_prevQ</th>\n",
              "      <th>average_monthly_balance_prevQ2</th>\n",
              "      <th>current_month_credit</th>\n",
              "      <th>previous_month_credit</th>\n",
              "      <th>current_month_debit</th>\n",
              "      <th>previous_month_debit</th>\n",
              "      <th>current_month_balance</th>\n",
              "      <th>previous_month_balance</th>\n",
              "      <th>churn</th>\n",
              "    </tr>\n",
              "  </thead>\n",
              "  <tbody>\n",
              "    <tr>\n",
              "      <th>count</th>\n",
              "      <td>28382.000000</td>\n",
              "      <td>28382.000000</td>\n",
              "      <td>28382.000000</td>\n",
              "      <td>25919.000000</td>\n",
              "      <td>27579.000000</td>\n",
              "      <td>28382.000000</td>\n",
              "      <td>28382.000000</td>\n",
              "      <td>25159.000000</td>\n",
              "      <td>2.838200e+04</td>\n",
              "      <td>2.838200e+04</td>\n",
              "      <td>2.838200e+04</td>\n",
              "      <td>2.838200e+04</td>\n",
              "      <td>2.838200e+04</td>\n",
              "      <td>2.838200e+04</td>\n",
              "      <td>2.838200e+04</td>\n",
              "      <td>2.838200e+04</td>\n",
              "      <td>2.838200e+04</td>\n",
              "      <td>2.838200e+04</td>\n",
              "      <td>28382.000000</td>\n",
              "    </tr>\n",
              "    <tr>\n",
              "      <th>mean</th>\n",
              "      <td>15143.508667</td>\n",
              "      <td>2364.336446</td>\n",
              "      <td>48.208336</td>\n",
              "      <td>0.347236</td>\n",
              "      <td>796.109576</td>\n",
              "      <td>2.225530</td>\n",
              "      <td>925.975019</td>\n",
              "      <td>69.997814</td>\n",
              "      <td>7.380552e+03</td>\n",
              "      <td>7.495771e+03</td>\n",
              "      <td>7.496780e+03</td>\n",
              "      <td>7.124209e+03</td>\n",
              "      <td>3.433252e+03</td>\n",
              "      <td>3.261694e+03</td>\n",
              "      <td>3.658745e+03</td>\n",
              "      <td>3.339761e+03</td>\n",
              "      <td>7.451133e+03</td>\n",
              "      <td>7.495177e+03</td>\n",
              "      <td>0.185329</td>\n",
              "    </tr>\n",
              "    <tr>\n",
              "      <th>std</th>\n",
              "      <td>8746.454456</td>\n",
              "      <td>1610.124506</td>\n",
              "      <td>17.807163</td>\n",
              "      <td>0.997661</td>\n",
              "      <td>432.872102</td>\n",
              "      <td>0.660443</td>\n",
              "      <td>937.799129</td>\n",
              "      <td>86.341098</td>\n",
              "      <td>4.259871e+04</td>\n",
              "      <td>4.252935e+04</td>\n",
              "      <td>4.172622e+04</td>\n",
              "      <td>4.457581e+04</td>\n",
              "      <td>7.707145e+04</td>\n",
              "      <td>2.968889e+04</td>\n",
              "      <td>5.198542e+04</td>\n",
              "      <td>2.430111e+04</td>\n",
              "      <td>4.203394e+04</td>\n",
              "      <td>4.243198e+04</td>\n",
              "      <td>0.388571</td>\n",
              "    </tr>\n",
              "    <tr>\n",
              "      <th>min</th>\n",
              "      <td>1.000000</td>\n",
              "      <td>180.000000</td>\n",
              "      <td>1.000000</td>\n",
              "      <td>0.000000</td>\n",
              "      <td>0.000000</td>\n",
              "      <td>1.000000</td>\n",
              "      <td>1.000000</td>\n",
              "      <td>0.000000</td>\n",
              "      <td>-5.503960e+03</td>\n",
              "      <td>-3.149570e+03</td>\n",
              "      <td>1.428690e+03</td>\n",
              "      <td>-1.650610e+04</td>\n",
              "      <td>1.000000e-02</td>\n",
              "      <td>1.000000e-02</td>\n",
              "      <td>1.000000e-02</td>\n",
              "      <td>1.000000e-02</td>\n",
              "      <td>-3.374180e+03</td>\n",
              "      <td>-5.171920e+03</td>\n",
              "      <td>0.000000</td>\n",
              "    </tr>\n",
              "    <tr>\n",
              "      <th>25%</th>\n",
              "      <td>7557.250000</td>\n",
              "      <td>1121.000000</td>\n",
              "      <td>36.000000</td>\n",
              "      <td>0.000000</td>\n",
              "      <td>409.000000</td>\n",
              "      <td>2.000000</td>\n",
              "      <td>176.000000</td>\n",
              "      <td>11.000000</td>\n",
              "      <td>1.784470e+03</td>\n",
              "      <td>1.906000e+03</td>\n",
              "      <td>2.180945e+03</td>\n",
              "      <td>1.832507e+03</td>\n",
              "      <td>3.100000e-01</td>\n",
              "      <td>3.300000e-01</td>\n",
              "      <td>4.100000e-01</td>\n",
              "      <td>4.100000e-01</td>\n",
              "      <td>1.996765e+03</td>\n",
              "      <td>2.074408e+03</td>\n",
              "      <td>0.000000</td>\n",
              "    </tr>\n",
              "    <tr>\n",
              "      <th>50%</th>\n",
              "      <td>15150.500000</td>\n",
              "      <td>2018.000000</td>\n",
              "      <td>46.000000</td>\n",
              "      <td>0.000000</td>\n",
              "      <td>834.000000</td>\n",
              "      <td>2.000000</td>\n",
              "      <td>572.000000</td>\n",
              "      <td>30.000000</td>\n",
              "      <td>3.281255e+03</td>\n",
              "      <td>3.379915e+03</td>\n",
              "      <td>3.542865e+03</td>\n",
              "      <td>3.359600e+03</td>\n",
              "      <td>6.100000e-01</td>\n",
              "      <td>6.300000e-01</td>\n",
              "      <td>9.193000e+01</td>\n",
              "      <td>1.099600e+02</td>\n",
              "      <td>3.447995e+03</td>\n",
              "      <td>3.465235e+03</td>\n",
              "      <td>0.000000</td>\n",
              "    </tr>\n",
              "    <tr>\n",
              "      <th>75%</th>\n",
              "      <td>22706.750000</td>\n",
              "      <td>3176.000000</td>\n",
              "      <td>60.000000</td>\n",
              "      <td>0.000000</td>\n",
              "      <td>1096.000000</td>\n",
              "      <td>3.000000</td>\n",
              "      <td>1440.000000</td>\n",
              "      <td>95.000000</td>\n",
              "      <td>6.635820e+03</td>\n",
              "      <td>6.656535e+03</td>\n",
              "      <td>6.666887e+03</td>\n",
              "      <td>6.517960e+03</td>\n",
              "      <td>7.072725e+02</td>\n",
              "      <td>7.492350e+02</td>\n",
              "      <td>1.360435e+03</td>\n",
              "      <td>1.357553e+03</td>\n",
              "      <td>6.667958e+03</td>\n",
              "      <td>6.654693e+03</td>\n",
              "      <td>0.000000</td>\n",
              "    </tr>\n",
              "    <tr>\n",
              "      <th>max</th>\n",
              "      <td>30301.000000</td>\n",
              "      <td>12899.000000</td>\n",
              "      <td>90.000000</td>\n",
              "      <td>52.000000</td>\n",
              "      <td>1649.000000</td>\n",
              "      <td>3.000000</td>\n",
              "      <td>4782.000000</td>\n",
              "      <td>365.000000</td>\n",
              "      <td>5.905904e+06</td>\n",
              "      <td>5.740439e+06</td>\n",
              "      <td>5.700290e+06</td>\n",
              "      <td>5.010170e+06</td>\n",
              "      <td>1.226985e+07</td>\n",
              "      <td>2.361808e+06</td>\n",
              "      <td>7.637857e+06</td>\n",
              "      <td>1.414168e+06</td>\n",
              "      <td>5.778185e+06</td>\n",
              "      <td>5.720144e+06</td>\n",
              "      <td>1.000000</td>\n",
              "    </tr>\n",
              "  </tbody>\n",
              "</table>\n",
              "</div>"
            ],
            "text/plain": [
              "        customer_id       vintage  ...  previous_month_balance         churn\n",
              "count  28382.000000  28382.000000  ...            2.838200e+04  28382.000000\n",
              "mean   15143.508667   2364.336446  ...            7.495177e+03      0.185329\n",
              "std     8746.454456   1610.124506  ...            4.243198e+04      0.388571\n",
              "min        1.000000    180.000000  ...           -5.171920e+03      0.000000\n",
              "25%     7557.250000   1121.000000  ...            2.074408e+03      0.000000\n",
              "50%    15150.500000   2018.000000  ...            3.465235e+03      0.000000\n",
              "75%    22706.750000   3176.000000  ...            6.654693e+03      0.000000\n",
              "max    30301.000000  12899.000000  ...            5.720144e+06      1.000000\n",
              "\n",
              "[8 rows x 19 columns]"
            ]
          },
          "metadata": {
            "tags": []
          },
          "execution_count": 3
        }
      ]
    },
    {
      "cell_type": "code",
      "metadata": {
        "id": "uu2LJosh8rnT",
        "colab_type": "code",
        "colab": {
          "base_uri": "https://localhost:8080/",
          "height": 34
        },
        "outputId": "d93cb580-4db9-4ad2-bc9b-5ccc4b631ff3"
      },
      "source": [
        "#Finding total no.of rows and columns in a dataset\n",
        "churn_data.shape"
      ],
      "execution_count": 4,
      "outputs": [
        {
          "output_type": "execute_result",
          "data": {
            "text/plain": [
              "(28382, 21)"
            ]
          },
          "metadata": {
            "tags": []
          },
          "execution_count": 4
        }
      ]
    },
    {
      "cell_type": "code",
      "metadata": {
        "id": "UNNTgjthzqwa",
        "colab_type": "code",
        "colab": {
          "base_uri": "https://localhost:8080/",
          "height": 658
        },
        "outputId": "a54a4e70-3a0c-4327-f23e-6430f71db62a"
      },
      "source": [
        "#Finding correlation between different features of the data.It helps us in understanding the data well.\n",
        "churn_data.corr()"
      ],
      "execution_count": 5,
      "outputs": [
        {
          "output_type": "execute_result",
          "data": {
            "text/html": [
              "<div>\n",
              "<style scoped>\n",
              "    .dataframe tbody tr th:only-of-type {\n",
              "        vertical-align: middle;\n",
              "    }\n",
              "\n",
              "    .dataframe tbody tr th {\n",
              "        vertical-align: top;\n",
              "    }\n",
              "\n",
              "    .dataframe thead th {\n",
              "        text-align: right;\n",
              "    }\n",
              "</style>\n",
              "<table border=\"1\" class=\"dataframe\">\n",
              "  <thead>\n",
              "    <tr style=\"text-align: right;\">\n",
              "      <th></th>\n",
              "      <th>customer_id</th>\n",
              "      <th>vintage</th>\n",
              "      <th>age</th>\n",
              "      <th>dependents</th>\n",
              "      <th>city</th>\n",
              "      <th>customer_nw_category</th>\n",
              "      <th>branch_code</th>\n",
              "      <th>days_since_last_transaction</th>\n",
              "      <th>current_balance</th>\n",
              "      <th>previous_month_end_balance</th>\n",
              "      <th>average_monthly_balance_prevQ</th>\n",
              "      <th>average_monthly_balance_prevQ2</th>\n",
              "      <th>current_month_credit</th>\n",
              "      <th>previous_month_credit</th>\n",
              "      <th>current_month_debit</th>\n",
              "      <th>previous_month_debit</th>\n",
              "      <th>current_month_balance</th>\n",
              "      <th>previous_month_balance</th>\n",
              "      <th>churn</th>\n",
              "    </tr>\n",
              "  </thead>\n",
              "  <tbody>\n",
              "    <tr>\n",
              "      <th>customer_id</th>\n",
              "      <td>1.000000</td>\n",
              "      <td>-0.006093</td>\n",
              "      <td>-0.000442</td>\n",
              "      <td>-0.008616</td>\n",
              "      <td>0.000743</td>\n",
              "      <td>0.009618</td>\n",
              "      <td>-0.000286</td>\n",
              "      <td>0.010267</td>\n",
              "      <td>0.006589</td>\n",
              "      <td>0.005819</td>\n",
              "      <td>0.004485</td>\n",
              "      <td>-0.002532</td>\n",
              "      <td>0.002494</td>\n",
              "      <td>-0.006414</td>\n",
              "      <td>0.002603</td>\n",
              "      <td>-0.008760</td>\n",
              "      <td>0.005140</td>\n",
              "      <td>0.004553</td>\n",
              "      <td>-0.002723</td>\n",
              "    </tr>\n",
              "    <tr>\n",
              "      <th>vintage</th>\n",
              "      <td>-0.006093</td>\n",
              "      <td>1.000000</td>\n",
              "      <td>0.227390</td>\n",
              "      <td>0.036987</td>\n",
              "      <td>0.044200</td>\n",
              "      <td>-0.167366</td>\n",
              "      <td>-0.380714</td>\n",
              "      <td>-0.088744</td>\n",
              "      <td>0.002986</td>\n",
              "      <td>0.004518</td>\n",
              "      <td>0.003433</td>\n",
              "      <td>0.002244</td>\n",
              "      <td>0.002848</td>\n",
              "      <td>0.028034</td>\n",
              "      <td>0.005406</td>\n",
              "      <td>0.023949</td>\n",
              "      <td>0.001638</td>\n",
              "      <td>0.003448</td>\n",
              "      <td>-0.064637</td>\n",
              "    </tr>\n",
              "    <tr>\n",
              "      <th>age</th>\n",
              "      <td>-0.000442</td>\n",
              "      <td>0.227390</td>\n",
              "      <td>1.000000</td>\n",
              "      <td>-0.000612</td>\n",
              "      <td>0.015439</td>\n",
              "      <td>-0.076532</td>\n",
              "      <td>-0.058990</td>\n",
              "      <td>-0.016679</td>\n",
              "      <td>0.054346</td>\n",
              "      <td>0.058342</td>\n",
              "      <td>0.061708</td>\n",
              "      <td>0.059607</td>\n",
              "      <td>0.023840</td>\n",
              "      <td>0.029961</td>\n",
              "      <td>0.027702</td>\n",
              "      <td>0.033296</td>\n",
              "      <td>0.057662</td>\n",
              "      <td>0.060297</td>\n",
              "      <td>-0.020012</td>\n",
              "    </tr>\n",
              "    <tr>\n",
              "      <th>dependents</th>\n",
              "      <td>-0.008616</td>\n",
              "      <td>0.036987</td>\n",
              "      <td>-0.000612</td>\n",
              "      <td>1.000000</td>\n",
              "      <td>0.001892</td>\n",
              "      <td>0.013134</td>\n",
              "      <td>0.020141</td>\n",
              "      <td>-0.079834</td>\n",
              "      <td>-0.003070</td>\n",
              "      <td>0.000216</td>\n",
              "      <td>0.001213</td>\n",
              "      <td>0.002949</td>\n",
              "      <td>0.003260</td>\n",
              "      <td>0.025054</td>\n",
              "      <td>0.008207</td>\n",
              "      <td>0.032021</td>\n",
              "      <td>-0.000652</td>\n",
              "      <td>0.001239</td>\n",
              "      <td>0.033487</td>\n",
              "    </tr>\n",
              "    <tr>\n",
              "      <th>city</th>\n",
              "      <td>0.000743</td>\n",
              "      <td>0.044200</td>\n",
              "      <td>0.015439</td>\n",
              "      <td>0.001892</td>\n",
              "      <td>1.000000</td>\n",
              "      <td>0.006613</td>\n",
              "      <td>-0.061234</td>\n",
              "      <td>-0.004309</td>\n",
              "      <td>-0.005654</td>\n",
              "      <td>-0.004089</td>\n",
              "      <td>-0.006298</td>\n",
              "      <td>-0.007891</td>\n",
              "      <td>0.004118</td>\n",
              "      <td>0.008087</td>\n",
              "      <td>0.001465</td>\n",
              "      <td>0.005995</td>\n",
              "      <td>-0.005796</td>\n",
              "      <td>-0.005839</td>\n",
              "      <td>-0.001585</td>\n",
              "    </tr>\n",
              "    <tr>\n",
              "      <th>customer_nw_category</th>\n",
              "      <td>0.009618</td>\n",
              "      <td>-0.167366</td>\n",
              "      <td>-0.076532</td>\n",
              "      <td>0.013134</td>\n",
              "      <td>0.006613</td>\n",
              "      <td>1.000000</td>\n",
              "      <td>0.235059</td>\n",
              "      <td>0.049531</td>\n",
              "      <td>-0.058314</td>\n",
              "      <td>-0.059854</td>\n",
              "      <td>-0.059535</td>\n",
              "      <td>-0.047010</td>\n",
              "      <td>-0.025254</td>\n",
              "      <td>-0.072374</td>\n",
              "      <td>-0.035917</td>\n",
              "      <td>-0.071721</td>\n",
              "      <td>-0.058648</td>\n",
              "      <td>-0.059113</td>\n",
              "      <td>0.006551</td>\n",
              "    </tr>\n",
              "    <tr>\n",
              "      <th>branch_code</th>\n",
              "      <td>-0.000286</td>\n",
              "      <td>-0.380714</td>\n",
              "      <td>-0.058990</td>\n",
              "      <td>0.020141</td>\n",
              "      <td>-0.061234</td>\n",
              "      <td>0.235059</td>\n",
              "      <td>1.000000</td>\n",
              "      <td>0.038708</td>\n",
              "      <td>0.000181</td>\n",
              "      <td>0.000214</td>\n",
              "      <td>0.001955</td>\n",
              "      <td>0.001310</td>\n",
              "      <td>-0.013988</td>\n",
              "      <td>-0.023849</td>\n",
              "      <td>-0.016944</td>\n",
              "      <td>-0.017584</td>\n",
              "      <td>0.001031</td>\n",
              "      <td>0.002080</td>\n",
              "      <td>0.035469</td>\n",
              "    </tr>\n",
              "    <tr>\n",
              "      <th>days_since_last_transaction</th>\n",
              "      <td>0.010267</td>\n",
              "      <td>-0.088744</td>\n",
              "      <td>-0.016679</td>\n",
              "      <td>-0.079834</td>\n",
              "      <td>-0.004309</td>\n",
              "      <td>0.049531</td>\n",
              "      <td>0.038708</td>\n",
              "      <td>1.000000</td>\n",
              "      <td>-0.019990</td>\n",
              "      <td>-0.014400</td>\n",
              "      <td>-0.012709</td>\n",
              "      <td>-0.006384</td>\n",
              "      <td>-0.033131</td>\n",
              "      <td>-0.071657</td>\n",
              "      <td>-0.039165</td>\n",
              "      <td>-0.070192</td>\n",
              "      <td>-0.017837</td>\n",
              "      <td>-0.011738</td>\n",
              "      <td>-0.055830</td>\n",
              "    </tr>\n",
              "    <tr>\n",
              "      <th>current_balance</th>\n",
              "      <td>0.006589</td>\n",
              "      <td>0.002986</td>\n",
              "      <td>0.054346</td>\n",
              "      <td>-0.003070</td>\n",
              "      <td>-0.005654</td>\n",
              "      <td>-0.058314</td>\n",
              "      <td>0.000181</td>\n",
              "      <td>-0.019990</td>\n",
              "      <td>1.000000</td>\n",
              "      <td>0.947276</td>\n",
              "      <td>0.958307</td>\n",
              "      <td>0.714600</td>\n",
              "      <td>0.030371</td>\n",
              "      <td>0.061754</td>\n",
              "      <td>0.044412</td>\n",
              "      <td>0.081247</td>\n",
              "      <td>0.983412</td>\n",
              "      <td>0.942207</td>\n",
              "      <td>-0.024181</td>\n",
              "    </tr>\n",
              "    <tr>\n",
              "      <th>previous_month_end_balance</th>\n",
              "      <td>0.005819</td>\n",
              "      <td>0.004518</td>\n",
              "      <td>0.058342</td>\n",
              "      <td>0.000216</td>\n",
              "      <td>-0.004089</td>\n",
              "      <td>-0.059854</td>\n",
              "      <td>0.000214</td>\n",
              "      <td>-0.014400</td>\n",
              "      <td>0.947276</td>\n",
              "      <td>1.000000</td>\n",
              "      <td>0.970530</td>\n",
              "      <td>0.722998</td>\n",
              "      <td>0.032493</td>\n",
              "      <td>0.114222</td>\n",
              "      <td>0.066329</td>\n",
              "      <td>0.109606</td>\n",
              "      <td>0.974714</td>\n",
              "      <td>0.969605</td>\n",
              "      <td>0.006886</td>\n",
              "    </tr>\n",
              "    <tr>\n",
              "      <th>average_monthly_balance_prevQ</th>\n",
              "      <td>0.004485</td>\n",
              "      <td>0.003433</td>\n",
              "      <td>0.061708</td>\n",
              "      <td>0.001213</td>\n",
              "      <td>-0.006298</td>\n",
              "      <td>-0.059535</td>\n",
              "      <td>0.001955</td>\n",
              "      <td>-0.012709</td>\n",
              "      <td>0.958307</td>\n",
              "      <td>0.970530</td>\n",
              "      <td>1.000000</td>\n",
              "      <td>0.763495</td>\n",
              "      <td>0.033639</td>\n",
              "      <td>0.085699</td>\n",
              "      <td>0.060579</td>\n",
              "      <td>0.121272</td>\n",
              "      <td>0.976290</td>\n",
              "      <td>0.994038</td>\n",
              "      <td>0.011960</td>\n",
              "    </tr>\n",
              "    <tr>\n",
              "      <th>average_monthly_balance_prevQ2</th>\n",
              "      <td>-0.002532</td>\n",
              "      <td>0.002244</td>\n",
              "      <td>0.059607</td>\n",
              "      <td>0.002949</td>\n",
              "      <td>-0.007891</td>\n",
              "      <td>-0.047010</td>\n",
              "      <td>0.001310</td>\n",
              "      <td>-0.006384</td>\n",
              "      <td>0.714600</td>\n",
              "      <td>0.722998</td>\n",
              "      <td>0.763495</td>\n",
              "      <td>1.000000</td>\n",
              "      <td>0.036271</td>\n",
              "      <td>0.062264</td>\n",
              "      <td>0.045239</td>\n",
              "      <td>0.102519</td>\n",
              "      <td>0.725826</td>\n",
              "      <td>0.736635</td>\n",
              "      <td>0.018376</td>\n",
              "    </tr>\n",
              "    <tr>\n",
              "      <th>current_month_credit</th>\n",
              "      <td>0.002494</td>\n",
              "      <td>0.002848</td>\n",
              "      <td>0.023840</td>\n",
              "      <td>0.003260</td>\n",
              "      <td>0.004118</td>\n",
              "      <td>-0.025254</td>\n",
              "      <td>-0.013988</td>\n",
              "      <td>-0.033131</td>\n",
              "      <td>0.030371</td>\n",
              "      <td>0.032493</td>\n",
              "      <td>0.033639</td>\n",
              "      <td>0.036271</td>\n",
              "      <td>1.000000</td>\n",
              "      <td>0.168561</td>\n",
              "      <td>0.937021</td>\n",
              "      <td>0.135729</td>\n",
              "      <td>0.034182</td>\n",
              "      <td>0.038254</td>\n",
              "      <td>0.020755</td>\n",
              "    </tr>\n",
              "    <tr>\n",
              "      <th>previous_month_credit</th>\n",
              "      <td>-0.006414</td>\n",
              "      <td>0.028034</td>\n",
              "      <td>0.029961</td>\n",
              "      <td>0.025054</td>\n",
              "      <td>0.008087</td>\n",
              "      <td>-0.072374</td>\n",
              "      <td>-0.023849</td>\n",
              "      <td>-0.071657</td>\n",
              "      <td>0.061754</td>\n",
              "      <td>0.114222</td>\n",
              "      <td>0.085699</td>\n",
              "      <td>0.062264</td>\n",
              "      <td>0.168561</td>\n",
              "      <td>1.000000</td>\n",
              "      <td>0.165092</td>\n",
              "      <td>0.733953</td>\n",
              "      <td>0.085320</td>\n",
              "      <td>0.108496</td>\n",
              "      <td>0.042179</td>\n",
              "    </tr>\n",
              "    <tr>\n",
              "      <th>current_month_debit</th>\n",
              "      <td>0.002603</td>\n",
              "      <td>0.005406</td>\n",
              "      <td>0.027702</td>\n",
              "      <td>0.008207</td>\n",
              "      <td>0.001465</td>\n",
              "      <td>-0.035917</td>\n",
              "      <td>-0.016944</td>\n",
              "      <td>-0.039165</td>\n",
              "      <td>0.044412</td>\n",
              "      <td>0.066329</td>\n",
              "      <td>0.060579</td>\n",
              "      <td>0.045239</td>\n",
              "      <td>0.937021</td>\n",
              "      <td>0.165092</td>\n",
              "      <td>1.000000</td>\n",
              "      <td>0.191755</td>\n",
              "      <td>0.069720</td>\n",
              "      <td>0.063375</td>\n",
              "      <td>0.048041</td>\n",
              "    </tr>\n",
              "    <tr>\n",
              "      <th>previous_month_debit</th>\n",
              "      <td>-0.008760</td>\n",
              "      <td>0.023949</td>\n",
              "      <td>0.033296</td>\n",
              "      <td>0.032021</td>\n",
              "      <td>0.005995</td>\n",
              "      <td>-0.071721</td>\n",
              "      <td>-0.017584</td>\n",
              "      <td>-0.070192</td>\n",
              "      <td>0.081247</td>\n",
              "      <td>0.109606</td>\n",
              "      <td>0.121272</td>\n",
              "      <td>0.102519</td>\n",
              "      <td>0.135729</td>\n",
              "      <td>0.733953</td>\n",
              "      <td>0.191755</td>\n",
              "      <td>1.000000</td>\n",
              "      <td>0.102010</td>\n",
              "      <td>0.139723</td>\n",
              "      <td>0.073058</td>\n",
              "    </tr>\n",
              "    <tr>\n",
              "      <th>current_month_balance</th>\n",
              "      <td>0.005140</td>\n",
              "      <td>0.001638</td>\n",
              "      <td>0.057662</td>\n",
              "      <td>-0.000652</td>\n",
              "      <td>-0.005796</td>\n",
              "      <td>-0.058648</td>\n",
              "      <td>0.001031</td>\n",
              "      <td>-0.017837</td>\n",
              "      <td>0.983412</td>\n",
              "      <td>0.974714</td>\n",
              "      <td>0.976290</td>\n",
              "      <td>0.725826</td>\n",
              "      <td>0.034182</td>\n",
              "      <td>0.085320</td>\n",
              "      <td>0.069720</td>\n",
              "      <td>0.102010</td>\n",
              "      <td>1.000000</td>\n",
              "      <td>0.963276</td>\n",
              "      <td>-0.006391</td>\n",
              "    </tr>\n",
              "    <tr>\n",
              "      <th>previous_month_balance</th>\n",
              "      <td>0.004553</td>\n",
              "      <td>0.003448</td>\n",
              "      <td>0.060297</td>\n",
              "      <td>0.001239</td>\n",
              "      <td>-0.005839</td>\n",
              "      <td>-0.059113</td>\n",
              "      <td>0.002080</td>\n",
              "      <td>-0.011738</td>\n",
              "      <td>0.942207</td>\n",
              "      <td>0.969605</td>\n",
              "      <td>0.994038</td>\n",
              "      <td>0.736635</td>\n",
              "      <td>0.038254</td>\n",
              "      <td>0.108496</td>\n",
              "      <td>0.063375</td>\n",
              "      <td>0.139723</td>\n",
              "      <td>0.963276</td>\n",
              "      <td>1.000000</td>\n",
              "      <td>0.014593</td>\n",
              "    </tr>\n",
              "    <tr>\n",
              "      <th>churn</th>\n",
              "      <td>-0.002723</td>\n",
              "      <td>-0.064637</td>\n",
              "      <td>-0.020012</td>\n",
              "      <td>0.033487</td>\n",
              "      <td>-0.001585</td>\n",
              "      <td>0.006551</td>\n",
              "      <td>0.035469</td>\n",
              "      <td>-0.055830</td>\n",
              "      <td>-0.024181</td>\n",
              "      <td>0.006886</td>\n",
              "      <td>0.011960</td>\n",
              "      <td>0.018376</td>\n",
              "      <td>0.020755</td>\n",
              "      <td>0.042179</td>\n",
              "      <td>0.048041</td>\n",
              "      <td>0.073058</td>\n",
              "      <td>-0.006391</td>\n",
              "      <td>0.014593</td>\n",
              "      <td>1.000000</td>\n",
              "    </tr>\n",
              "  </tbody>\n",
              "</table>\n",
              "</div>"
            ],
            "text/plain": [
              "                                customer_id  ...     churn\n",
              "customer_id                        1.000000  ... -0.002723\n",
              "vintage                           -0.006093  ... -0.064637\n",
              "age                               -0.000442  ... -0.020012\n",
              "dependents                        -0.008616  ...  0.033487\n",
              "city                               0.000743  ... -0.001585\n",
              "customer_nw_category               0.009618  ...  0.006551\n",
              "branch_code                       -0.000286  ...  0.035469\n",
              "days_since_last_transaction        0.010267  ... -0.055830\n",
              "current_balance                    0.006589  ... -0.024181\n",
              "previous_month_end_balance         0.005819  ...  0.006886\n",
              "average_monthly_balance_prevQ      0.004485  ...  0.011960\n",
              "average_monthly_balance_prevQ2    -0.002532  ...  0.018376\n",
              "current_month_credit               0.002494  ...  0.020755\n",
              "previous_month_credit             -0.006414  ...  0.042179\n",
              "current_month_debit                0.002603  ...  0.048041\n",
              "previous_month_debit              -0.008760  ...  0.073058\n",
              "current_month_balance              0.005140  ... -0.006391\n",
              "previous_month_balance             0.004553  ...  0.014593\n",
              "churn                             -0.002723  ...  1.000000\n",
              "\n",
              "[19 rows x 19 columns]"
            ]
          },
          "metadata": {
            "tags": []
          },
          "execution_count": 5
        }
      ]
    },
    {
      "cell_type": "code",
      "metadata": {
        "id": "r8TQavxBzwua",
        "colab_type": "code",
        "colab": {
          "base_uri": "https://localhost:8080/",
          "height": 34
        },
        "outputId": "f6ea2111-a288-4650-d4e6-afabb2661460"
      },
      "source": [
        "# dropping out duplicate data ,if any\n",
        "churn_data.drop_duplicates()\n",
        "churn_data.shape"
      ],
      "execution_count": 6,
      "outputs": [
        {
          "output_type": "execute_result",
          "data": {
            "text/plain": [
              "(28382, 21)"
            ]
          },
          "metadata": {
            "tags": []
          },
          "execution_count": 6
        }
      ]
    },
    {
      "cell_type": "code",
      "metadata": {
        "id": "-cL5skyl0DYD",
        "colab_type": "code",
        "colab": {
          "base_uri": "https://localhost:8080/",
          "height": 391
        },
        "outputId": "11c9f87e-2500-4b37-b321-429e0ef8987c"
      },
      "source": [
        "# Finding the data type of all columns\n",
        "churn_data.dtypes"
      ],
      "execution_count": 7,
      "outputs": [
        {
          "output_type": "execute_result",
          "data": {
            "text/plain": [
              "customer_id                         int64\n",
              "vintage                             int64\n",
              "age                                 int64\n",
              "gender                             object\n",
              "dependents                        float64\n",
              "occupation                         object\n",
              "city                              float64\n",
              "customer_nw_category                int64\n",
              "branch_code                         int64\n",
              "days_since_last_transaction       float64\n",
              "current_balance                   float64\n",
              "previous_month_end_balance        float64\n",
              "average_monthly_balance_prevQ     float64\n",
              "average_monthly_balance_prevQ2    float64\n",
              "current_month_credit              float64\n",
              "previous_month_credit             float64\n",
              "current_month_debit               float64\n",
              "previous_month_debit              float64\n",
              "current_month_balance             float64\n",
              "previous_month_balance            float64\n",
              "churn                               int64\n",
              "dtype: object"
            ]
          },
          "metadata": {
            "tags": []
          },
          "execution_count": 7
        }
      ]
    },
    {
      "cell_type": "code",
      "metadata": {
        "id": "UQ_9KTWE1V4g",
        "colab_type": "code",
        "colab": {
          "base_uri": "https://localhost:8080/",
          "height": 391
        },
        "outputId": "1bfb9c7f-1f0c-4a5c-dd72-dd61fe69951c"
      },
      "source": [
        "# Finding missing values, if any, in the dataset\n",
        "churn_data.isnull().sum()"
      ],
      "execution_count": 8,
      "outputs": [
        {
          "output_type": "execute_result",
          "data": {
            "text/plain": [
              "customer_id                          0\n",
              "vintage                              0\n",
              "age                                  0\n",
              "gender                             525\n",
              "dependents                        2463\n",
              "occupation                          80\n",
              "city                               803\n",
              "customer_nw_category                 0\n",
              "branch_code                          0\n",
              "days_since_last_transaction       3223\n",
              "current_balance                      0\n",
              "previous_month_end_balance           0\n",
              "average_monthly_balance_prevQ        0\n",
              "average_monthly_balance_prevQ2       0\n",
              "current_month_credit                 0\n",
              "previous_month_credit                0\n",
              "current_month_debit                  0\n",
              "previous_month_debit                 0\n",
              "current_month_balance                0\n",
              "previous_month_balance               0\n",
              "churn                                0\n",
              "dtype: int64"
            ]
          },
          "metadata": {
            "tags": []
          },
          "execution_count": 8
        }
      ]
    },
    {
      "cell_type": "markdown",
      "metadata": {
        "id": "HZDIHCbumkPr",
        "colab_type": "text"
      },
      "source": [
        "### **Imputing Missing values**"
      ]
    },
    {
      "cell_type": "code",
      "metadata": {
        "id": "DfxK1jtt1kjf",
        "colab_type": "code",
        "colab": {}
      },
      "source": [
        "# Filling missing values of 'gender' column \n",
        "churn_data['gender'].fillna(churn_data['gender'].mode()[0],inplace=True)"
      ],
      "execution_count": 9,
      "outputs": []
    },
    {
      "cell_type": "code",
      "metadata": {
        "id": "_wdvec3U15Sk",
        "colab_type": "code",
        "colab": {}
      },
      "source": [
        "# Filling missing values of \"dependents\" column\n",
        "churn_data['dependents'].fillna(value=churn_data['dependents'].mode()[0],inplace=True)"
      ],
      "execution_count": 10,
      "outputs": []
    },
    {
      "cell_type": "code",
      "metadata": {
        "id": "KcZOhsnF2WwY",
        "colab_type": "code",
        "colab": {}
      },
      "source": [
        "# Filling missing values of \"days_since_last_transaction\" column\n",
        "churn_data['days_since_last_transaction'].fillna(value=churn_data['days_since_last_transaction'].mean(),inplace=True)"
      ],
      "execution_count": 11,
      "outputs": []
    },
    {
      "cell_type": "code",
      "metadata": {
        "id": "MtV1rV1H2_e3",
        "colab_type": "code",
        "colab": {}
      },
      "source": [
        "# Filling missing values of \"occupation\" column\n",
        "churn_data['occupation'].fillna(value=churn_data['occupation'].mode()[0],inplace=True)"
      ],
      "execution_count": 12,
      "outputs": []
    },
    {
      "cell_type": "code",
      "metadata": {
        "id": "pa-XedQJ2_q8",
        "colab_type": "code",
        "colab": {
          "base_uri": "https://localhost:8080/",
          "height": 391
        },
        "outputId": "86cb9898-573f-4c28-b33c-2b45e17aa7da"
      },
      "source": [
        "# checking missing values again\n",
        "churn_data.isnull().sum()"
      ],
      "execution_count": 13,
      "outputs": [
        {
          "output_type": "execute_result",
          "data": {
            "text/plain": [
              "customer_id                         0\n",
              "vintage                             0\n",
              "age                                 0\n",
              "gender                              0\n",
              "dependents                          0\n",
              "occupation                          0\n",
              "city                              803\n",
              "customer_nw_category                0\n",
              "branch_code                         0\n",
              "days_since_last_transaction         0\n",
              "current_balance                     0\n",
              "previous_month_end_balance          0\n",
              "average_monthly_balance_prevQ       0\n",
              "average_monthly_balance_prevQ2      0\n",
              "current_month_credit                0\n",
              "previous_month_credit               0\n",
              "current_month_debit                 0\n",
              "previous_month_debit                0\n",
              "current_month_balance               0\n",
              "previous_month_balance              0\n",
              "churn                               0\n",
              "dtype: int64"
            ]
          },
          "metadata": {
            "tags": []
          },
          "execution_count": 13
        }
      ]
    },
    {
      "cell_type": "markdown",
      "metadata": {
        "id": "_QTfFeOz3nAe",
        "colab_type": "text"
      },
      "source": [
        "Here I am not imputing missing values of city column ,because it is very negatively correlated with the churn ,so I will drop this column."
      ]
    },
    {
      "cell_type": "markdown",
      "metadata": {
        "id": "hXVBIFJBmquK",
        "colab_type": "text"
      },
      "source": [
        "### **Visualization**"
      ]
    },
    {
      "cell_type": "code",
      "metadata": {
        "id": "Q9WggOBX38ZU",
        "colab_type": "code",
        "colab": {
          "base_uri": "https://localhost:8080/",
          "height": 542
        },
        "outputId": "7efe6a97-9b4e-493f-97af-3086e26a6365"
      },
      "source": [
        "# Visualize Total Customer Churn\n",
        "plot_by_churn_labels = churn_data[\"churn\"].value_counts().keys().tolist()\n",
        "plot_by_churn_values = churn_data[\"churn\"].value_counts().values.tolist()\n",
        "\n",
        "plot_data= [\n",
        "    go.Pie(labels = plot_by_churn_labels,\n",
        "           values = plot_by_churn_values,\n",
        "           marker = dict(colors =  [ 'Teal' ,'Grey'],\n",
        "                         line = dict(color = \"white\",\n",
        "                                     width =  1.5)),\n",
        "           rotation = 90,\n",
        "           hoverinfo = \"label+value+text\",\n",
        "           hole = .6)\n",
        "]\n",
        "plot_layout = go.Layout(dict(title = \"Customer Churn\",\n",
        "                   plot_bgcolor  = \"rgb(243,243,243)\",\n",
        "                   paper_bgcolor = \"rgb(243,243,243)\",))\n",
        "\n",
        "\n",
        "fig = go.Figure(data=plot_data, layout=plot_layout)\n",
        "po.iplot(fig)"
      ],
      "execution_count": 14,
      "outputs": [
        {
          "output_type": "display_data",
          "data": {
            "text/html": [
              "<html>\n",
              "<head><meta charset=\"utf-8\" /></head>\n",
              "<body>\n",
              "    <div>\n",
              "            <script src=\"https://cdnjs.cloudflare.com/ajax/libs/mathjax/2.7.5/MathJax.js?config=TeX-AMS-MML_SVG\"></script><script type=\"text/javascript\">if (window.MathJax) {MathJax.Hub.Config({SVG: {font: \"STIX-Web\"}});}</script>\n",
              "                <script type=\"text/javascript\">window.PlotlyConfig = {MathJaxConfig: 'local'};</script>\n",
              "        <script src=\"https://cdn.plot.ly/plotly-latest.min.js\"></script>    \n",
              "            <div id=\"12920151-d530-40d3-9fed-93e53a6fc317\" class=\"plotly-graph-div\" style=\"height:525px; width:100%;\"></div>\n",
              "            <script type=\"text/javascript\">\n",
              "                \n",
              "                    window.PLOTLYENV=window.PLOTLYENV || {};\n",
              "                    \n",
              "                if (document.getElementById(\"12920151-d530-40d3-9fed-93e53a6fc317\")) {\n",
              "                    Plotly.newPlot(\n",
              "                        '12920151-d530-40d3-9fed-93e53a6fc317',\n",
              "                        [{\"hole\": 0.6, \"hoverinfo\": \"label+value+text\", \"labels\": [0, 1], \"marker\": {\"colors\": [\"Teal\", \"Grey\"], \"line\": {\"color\": \"white\", \"width\": 1.5}}, \"rotation\": 90, \"type\": \"pie\", \"values\": [23122, 5260]}],\n",
              "                        {\"paper_bgcolor\": \"rgb(243,243,243)\", \"plot_bgcolor\": \"rgb(243,243,243)\", \"template\": {\"data\": {\"bar\": [{\"error_x\": {\"color\": \"#2a3f5f\"}, \"error_y\": {\"color\": \"#2a3f5f\"}, \"marker\": {\"line\": {\"color\": \"#E5ECF6\", \"width\": 0.5}}, \"type\": \"bar\"}], \"barpolar\": [{\"marker\": {\"line\": {\"color\": \"#E5ECF6\", \"width\": 0.5}}, \"type\": \"barpolar\"}], \"carpet\": [{\"aaxis\": {\"endlinecolor\": \"#2a3f5f\", \"gridcolor\": \"white\", \"linecolor\": \"white\", \"minorgridcolor\": \"white\", \"startlinecolor\": \"#2a3f5f\"}, \"baxis\": {\"endlinecolor\": \"#2a3f5f\", \"gridcolor\": \"white\", \"linecolor\": \"white\", \"minorgridcolor\": \"white\", \"startlinecolor\": \"#2a3f5f\"}, \"type\": \"carpet\"}], \"choropleth\": [{\"colorbar\": {\"outlinewidth\": 0, \"ticks\": \"\"}, \"type\": \"choropleth\"}], \"contour\": [{\"colorbar\": {\"outlinewidth\": 0, \"ticks\": \"\"}, \"colorscale\": [[0.0, \"#0d0887\"], [0.1111111111111111, \"#46039f\"], [0.2222222222222222, \"#7201a8\"], [0.3333333333333333, \"#9c179e\"], [0.4444444444444444, \"#bd3786\"], [0.5555555555555556, \"#d8576b\"], [0.6666666666666666, \"#ed7953\"], [0.7777777777777778, \"#fb9f3a\"], [0.8888888888888888, \"#fdca26\"], [1.0, \"#f0f921\"]], \"type\": \"contour\"}], \"contourcarpet\": [{\"colorbar\": {\"outlinewidth\": 0, \"ticks\": \"\"}, \"type\": \"contourcarpet\"}], \"heatmap\": [{\"colorbar\": {\"outlinewidth\": 0, \"ticks\": \"\"}, \"colorscale\": [[0.0, \"#0d0887\"], [0.1111111111111111, \"#46039f\"], [0.2222222222222222, \"#7201a8\"], [0.3333333333333333, \"#9c179e\"], [0.4444444444444444, \"#bd3786\"], [0.5555555555555556, \"#d8576b\"], [0.6666666666666666, \"#ed7953\"], [0.7777777777777778, \"#fb9f3a\"], [0.8888888888888888, \"#fdca26\"], [1.0, \"#f0f921\"]], \"type\": \"heatmap\"}], \"heatmapgl\": [{\"colorbar\": {\"outlinewidth\": 0, \"ticks\": \"\"}, \"colorscale\": [[0.0, \"#0d0887\"], [0.1111111111111111, \"#46039f\"], [0.2222222222222222, \"#7201a8\"], [0.3333333333333333, \"#9c179e\"], [0.4444444444444444, \"#bd3786\"], [0.5555555555555556, \"#d8576b\"], [0.6666666666666666, \"#ed7953\"], [0.7777777777777778, \"#fb9f3a\"], [0.8888888888888888, \"#fdca26\"], [1.0, \"#f0f921\"]], \"type\": \"heatmapgl\"}], \"histogram\": [{\"marker\": {\"colorbar\": {\"outlinewidth\": 0, \"ticks\": \"\"}}, \"type\": \"histogram\"}], \"histogram2d\": [{\"colorbar\": {\"outlinewidth\": 0, \"ticks\": \"\"}, \"colorscale\": [[0.0, \"#0d0887\"], [0.1111111111111111, \"#46039f\"], [0.2222222222222222, \"#7201a8\"], [0.3333333333333333, \"#9c179e\"], [0.4444444444444444, \"#bd3786\"], [0.5555555555555556, \"#d8576b\"], [0.6666666666666666, \"#ed7953\"], [0.7777777777777778, \"#fb9f3a\"], [0.8888888888888888, \"#fdca26\"], [1.0, \"#f0f921\"]], \"type\": \"histogram2d\"}], \"histogram2dcontour\": [{\"colorbar\": {\"outlinewidth\": 0, \"ticks\": \"\"}, \"colorscale\": [[0.0, \"#0d0887\"], [0.1111111111111111, \"#46039f\"], [0.2222222222222222, \"#7201a8\"], [0.3333333333333333, \"#9c179e\"], [0.4444444444444444, \"#bd3786\"], [0.5555555555555556, \"#d8576b\"], [0.6666666666666666, \"#ed7953\"], [0.7777777777777778, \"#fb9f3a\"], [0.8888888888888888, \"#fdca26\"], [1.0, \"#f0f921\"]], \"type\": \"histogram2dcontour\"}], \"mesh3d\": [{\"colorbar\": {\"outlinewidth\": 0, \"ticks\": \"\"}, \"type\": \"mesh3d\"}], \"parcoords\": [{\"line\": {\"colorbar\": {\"outlinewidth\": 0, \"ticks\": \"\"}}, \"type\": \"parcoords\"}], \"pie\": [{\"automargin\": true, \"type\": \"pie\"}], \"scatter\": [{\"marker\": {\"colorbar\": {\"outlinewidth\": 0, \"ticks\": \"\"}}, \"type\": \"scatter\"}], \"scatter3d\": [{\"line\": {\"colorbar\": {\"outlinewidth\": 0, \"ticks\": \"\"}}, \"marker\": {\"colorbar\": {\"outlinewidth\": 0, \"ticks\": \"\"}}, \"type\": \"scatter3d\"}], \"scattercarpet\": [{\"marker\": {\"colorbar\": {\"outlinewidth\": 0, \"ticks\": \"\"}}, \"type\": \"scattercarpet\"}], \"scattergeo\": [{\"marker\": {\"colorbar\": {\"outlinewidth\": 0, \"ticks\": \"\"}}, \"type\": \"scattergeo\"}], \"scattergl\": [{\"marker\": {\"colorbar\": {\"outlinewidth\": 0, \"ticks\": \"\"}}, \"type\": \"scattergl\"}], \"scattermapbox\": [{\"marker\": {\"colorbar\": {\"outlinewidth\": 0, \"ticks\": \"\"}}, \"type\": \"scattermapbox\"}], \"scatterpolar\": [{\"marker\": {\"colorbar\": {\"outlinewidth\": 0, \"ticks\": \"\"}}, \"type\": \"scatterpolar\"}], \"scatterpolargl\": [{\"marker\": {\"colorbar\": {\"outlinewidth\": 0, \"ticks\": \"\"}}, \"type\": \"scatterpolargl\"}], \"scatterternary\": [{\"marker\": {\"colorbar\": {\"outlinewidth\": 0, \"ticks\": \"\"}}, \"type\": \"scatterternary\"}], \"surface\": [{\"colorbar\": {\"outlinewidth\": 0, \"ticks\": \"\"}, \"colorscale\": [[0.0, \"#0d0887\"], [0.1111111111111111, \"#46039f\"], [0.2222222222222222, \"#7201a8\"], [0.3333333333333333, \"#9c179e\"], [0.4444444444444444, \"#bd3786\"], [0.5555555555555556, \"#d8576b\"], [0.6666666666666666, \"#ed7953\"], [0.7777777777777778, \"#fb9f3a\"], [0.8888888888888888, \"#fdca26\"], [1.0, \"#f0f921\"]], \"type\": \"surface\"}], \"table\": [{\"cells\": {\"fill\": {\"color\": \"#EBF0F8\"}, \"line\": {\"color\": \"white\"}}, \"header\": {\"fill\": {\"color\": \"#C8D4E3\"}, \"line\": {\"color\": \"white\"}}, \"type\": \"table\"}]}, \"layout\": {\"annotationdefaults\": {\"arrowcolor\": \"#2a3f5f\", \"arrowhead\": 0, \"arrowwidth\": 1}, \"coloraxis\": {\"colorbar\": {\"outlinewidth\": 0, \"ticks\": \"\"}}, \"colorscale\": {\"diverging\": [[0, \"#8e0152\"], [0.1, \"#c51b7d\"], [0.2, \"#de77ae\"], [0.3, \"#f1b6da\"], [0.4, \"#fde0ef\"], [0.5, \"#f7f7f7\"], [0.6, \"#e6f5d0\"], [0.7, \"#b8e186\"], [0.8, \"#7fbc41\"], [0.9, \"#4d9221\"], [1, \"#276419\"]], \"sequential\": [[0.0, \"#0d0887\"], [0.1111111111111111, \"#46039f\"], [0.2222222222222222, \"#7201a8\"], [0.3333333333333333, \"#9c179e\"], [0.4444444444444444, \"#bd3786\"], [0.5555555555555556, \"#d8576b\"], [0.6666666666666666, \"#ed7953\"], [0.7777777777777778, \"#fb9f3a\"], [0.8888888888888888, \"#fdca26\"], [1.0, \"#f0f921\"]], \"sequentialminus\": [[0.0, \"#0d0887\"], [0.1111111111111111, \"#46039f\"], [0.2222222222222222, \"#7201a8\"], [0.3333333333333333, \"#9c179e\"], [0.4444444444444444, \"#bd3786\"], [0.5555555555555556, \"#d8576b\"], [0.6666666666666666, \"#ed7953\"], [0.7777777777777778, \"#fb9f3a\"], [0.8888888888888888, \"#fdca26\"], [1.0, \"#f0f921\"]]}, \"colorway\": [\"#636efa\", \"#EF553B\", \"#00cc96\", \"#ab63fa\", \"#FFA15A\", \"#19d3f3\", \"#FF6692\", \"#B6E880\", \"#FF97FF\", \"#FECB52\"], \"font\": {\"color\": \"#2a3f5f\"}, \"geo\": {\"bgcolor\": \"white\", \"lakecolor\": \"white\", \"landcolor\": \"#E5ECF6\", \"showlakes\": true, \"showland\": true, \"subunitcolor\": \"white\"}, \"hoverlabel\": {\"align\": \"left\"}, \"hovermode\": \"closest\", \"mapbox\": {\"style\": \"light\"}, \"paper_bgcolor\": \"white\", \"plot_bgcolor\": \"#E5ECF6\", \"polar\": {\"angularaxis\": {\"gridcolor\": \"white\", \"linecolor\": \"white\", \"ticks\": \"\"}, \"bgcolor\": \"#E5ECF6\", \"radialaxis\": {\"gridcolor\": \"white\", \"linecolor\": \"white\", \"ticks\": \"\"}}, \"scene\": {\"xaxis\": {\"backgroundcolor\": \"#E5ECF6\", \"gridcolor\": \"white\", \"gridwidth\": 2, \"linecolor\": \"white\", \"showbackground\": true, \"ticks\": \"\", \"zerolinecolor\": \"white\"}, \"yaxis\": {\"backgroundcolor\": \"#E5ECF6\", \"gridcolor\": \"white\", \"gridwidth\": 2, \"linecolor\": \"white\", \"showbackground\": true, \"ticks\": \"\", \"zerolinecolor\": \"white\"}, \"zaxis\": {\"backgroundcolor\": \"#E5ECF6\", \"gridcolor\": \"white\", \"gridwidth\": 2, \"linecolor\": \"white\", \"showbackground\": true, \"ticks\": \"\", \"zerolinecolor\": \"white\"}}, \"shapedefaults\": {\"line\": {\"color\": \"#2a3f5f\"}}, \"ternary\": {\"aaxis\": {\"gridcolor\": \"white\", \"linecolor\": \"white\", \"ticks\": \"\"}, \"baxis\": {\"gridcolor\": \"white\", \"linecolor\": \"white\", \"ticks\": \"\"}, \"bgcolor\": \"#E5ECF6\", \"caxis\": {\"gridcolor\": \"white\", \"linecolor\": \"white\", \"ticks\": \"\"}}, \"title\": {\"x\": 0.05}, \"xaxis\": {\"automargin\": true, \"gridcolor\": \"white\", \"linecolor\": \"white\", \"ticks\": \"\", \"title\": {\"standoff\": 15}, \"zerolinecolor\": \"white\", \"zerolinewidth\": 2}, \"yaxis\": {\"automargin\": true, \"gridcolor\": \"white\", \"linecolor\": \"white\", \"ticks\": \"\", \"title\": {\"standoff\": 15}, \"zerolinecolor\": \"white\", \"zerolinewidth\": 2}}}, \"title\": {\"text\": \"Customer Churn\"}},\n",
              "                        {\"responsive\": true}\n",
              "                    ).then(function(){\n",
              "                            \n",
              "var gd = document.getElementById('12920151-d530-40d3-9fed-93e53a6fc317');\n",
              "var x = new MutationObserver(function (mutations, observer) {{\n",
              "        var display = window.getComputedStyle(gd).display;\n",
              "        if (!display || display === 'none') {{\n",
              "            console.log([gd, 'removed!']);\n",
              "            Plotly.purge(gd);\n",
              "            observer.disconnect();\n",
              "        }}\n",
              "}});\n",
              "\n",
              "// Listen for the removal of the full notebook cells\n",
              "var notebookContainer = gd.closest('#notebook-container');\n",
              "if (notebookContainer) {{\n",
              "    x.observe(notebookContainer, {childList: true});\n",
              "}}\n",
              "\n",
              "// Listen for the clearing of the current output cell\n",
              "var outputEl = gd.closest('.output');\n",
              "if (outputEl) {{\n",
              "    x.observe(outputEl, {childList: true});\n",
              "}}\n",
              "\n",
              "                        })\n",
              "                };\n",
              "                \n",
              "            </script>\n",
              "        </div>\n",
              "</body>\n",
              "</html>"
            ]
          },
          "metadata": {
            "tags": []
          }
        }
      ]
    },
    {
      "cell_type": "code",
      "metadata": {
        "id": "zJU3dhYr4fp8",
        "colab_type": "code",
        "colab": {
          "base_uri": "https://localhost:8080/",
          "height": 542
        },
        "outputId": "528d6295-e7a9-47fe-da94-bcf9cb906d2e"
      },
      "source": [
        "# Visualize Churn Rate by Gender\n",
        "plot_by_gender = churn_data.groupby('gender').churn.mean().reset_index()\n",
        "plot_data = [\n",
        "    go.Bar(\n",
        "        x=plot_by_gender['gender'],\n",
        "        y=plot_by_gender['churn'],\n",
        "        width = [0.3, 0.3],\n",
        "        marker=dict(\n",
        "        color=['blue', 'orange'])\n",
        "    )\n",
        "]\n",
        "plot_layout = go.Layout(\n",
        "        xaxis={\"type\": \"category\"},\n",
        "        yaxis={\"title\": \"Churn Rate\"},\n",
        "        title='Churn Rate by Gender',\n",
        "        plot_bgcolor  = 'rgb(243,243,243)',\n",
        "        paper_bgcolor  = 'rgb(243,243,243)',\n",
        "    )\n",
        "fig = go.Figure(data=plot_data, layout=plot_layout)\n",
        "po.iplot(fig)"
      ],
      "execution_count": 15,
      "outputs": [
        {
          "output_type": "display_data",
          "data": {
            "text/html": [
              "<html>\n",
              "<head><meta charset=\"utf-8\" /></head>\n",
              "<body>\n",
              "    <div>\n",
              "            <script src=\"https://cdnjs.cloudflare.com/ajax/libs/mathjax/2.7.5/MathJax.js?config=TeX-AMS-MML_SVG\"></script><script type=\"text/javascript\">if (window.MathJax) {MathJax.Hub.Config({SVG: {font: \"STIX-Web\"}});}</script>\n",
              "                <script type=\"text/javascript\">window.PlotlyConfig = {MathJaxConfig: 'local'};</script>\n",
              "        <script src=\"https://cdn.plot.ly/plotly-latest.min.js\"></script>    \n",
              "            <div id=\"6fca5dba-94b0-476c-ba01-1871bf96060f\" class=\"plotly-graph-div\" style=\"height:525px; width:100%;\"></div>\n",
              "            <script type=\"text/javascript\">\n",
              "                \n",
              "                    window.PLOTLYENV=window.PLOTLYENV || {};\n",
              "                    \n",
              "                if (document.getElementById(\"6fca5dba-94b0-476c-ba01-1871bf96060f\")) {\n",
              "                    Plotly.newPlot(\n",
              "                        '6fca5dba-94b0-476c-ba01-1871bf96060f',\n",
              "                        [{\"marker\": {\"color\": [\"blue\", \"orange\"]}, \"type\": \"bar\", \"width\": [0.3, 0.3], \"x\": [\"Female\", \"Male\"], \"y\": [0.17552391900256434, 0.19182334680489663]}],\n",
              "                        {\"paper_bgcolor\": \"rgb(243,243,243)\", \"plot_bgcolor\": \"rgb(243,243,243)\", \"template\": {\"data\": {\"bar\": [{\"error_x\": {\"color\": \"#2a3f5f\"}, \"error_y\": {\"color\": \"#2a3f5f\"}, \"marker\": {\"line\": {\"color\": \"#E5ECF6\", \"width\": 0.5}}, \"type\": \"bar\"}], \"barpolar\": [{\"marker\": {\"line\": {\"color\": \"#E5ECF6\", \"width\": 0.5}}, \"type\": \"barpolar\"}], \"carpet\": [{\"aaxis\": {\"endlinecolor\": \"#2a3f5f\", \"gridcolor\": \"white\", \"linecolor\": \"white\", \"minorgridcolor\": \"white\", \"startlinecolor\": \"#2a3f5f\"}, \"baxis\": {\"endlinecolor\": \"#2a3f5f\", \"gridcolor\": \"white\", \"linecolor\": \"white\", \"minorgridcolor\": \"white\", \"startlinecolor\": \"#2a3f5f\"}, \"type\": \"carpet\"}], \"choropleth\": [{\"colorbar\": {\"outlinewidth\": 0, \"ticks\": \"\"}, \"type\": \"choropleth\"}], \"contour\": [{\"colorbar\": {\"outlinewidth\": 0, \"ticks\": \"\"}, \"colorscale\": [[0.0, \"#0d0887\"], [0.1111111111111111, \"#46039f\"], [0.2222222222222222, \"#7201a8\"], [0.3333333333333333, \"#9c179e\"], [0.4444444444444444, \"#bd3786\"], [0.5555555555555556, \"#d8576b\"], [0.6666666666666666, \"#ed7953\"], [0.7777777777777778, \"#fb9f3a\"], [0.8888888888888888, \"#fdca26\"], [1.0, \"#f0f921\"]], \"type\": \"contour\"}], \"contourcarpet\": [{\"colorbar\": {\"outlinewidth\": 0, \"ticks\": \"\"}, \"type\": \"contourcarpet\"}], \"heatmap\": [{\"colorbar\": {\"outlinewidth\": 0, \"ticks\": \"\"}, \"colorscale\": [[0.0, \"#0d0887\"], [0.1111111111111111, \"#46039f\"], [0.2222222222222222, \"#7201a8\"], [0.3333333333333333, \"#9c179e\"], [0.4444444444444444, \"#bd3786\"], [0.5555555555555556, \"#d8576b\"], [0.6666666666666666, \"#ed7953\"], [0.7777777777777778, \"#fb9f3a\"], [0.8888888888888888, \"#fdca26\"], [1.0, \"#f0f921\"]], \"type\": \"heatmap\"}], \"heatmapgl\": [{\"colorbar\": {\"outlinewidth\": 0, \"ticks\": \"\"}, \"colorscale\": [[0.0, \"#0d0887\"], [0.1111111111111111, \"#46039f\"], [0.2222222222222222, \"#7201a8\"], [0.3333333333333333, \"#9c179e\"], [0.4444444444444444, \"#bd3786\"], [0.5555555555555556, \"#d8576b\"], [0.6666666666666666, \"#ed7953\"], [0.7777777777777778, \"#fb9f3a\"], [0.8888888888888888, \"#fdca26\"], [1.0, \"#f0f921\"]], \"type\": \"heatmapgl\"}], \"histogram\": [{\"marker\": {\"colorbar\": {\"outlinewidth\": 0, \"ticks\": \"\"}}, \"type\": \"histogram\"}], \"histogram2d\": [{\"colorbar\": {\"outlinewidth\": 0, \"ticks\": \"\"}, \"colorscale\": [[0.0, \"#0d0887\"], [0.1111111111111111, \"#46039f\"], [0.2222222222222222, \"#7201a8\"], [0.3333333333333333, \"#9c179e\"], [0.4444444444444444, \"#bd3786\"], [0.5555555555555556, \"#d8576b\"], [0.6666666666666666, \"#ed7953\"], [0.7777777777777778, \"#fb9f3a\"], [0.8888888888888888, \"#fdca26\"], [1.0, \"#f0f921\"]], \"type\": \"histogram2d\"}], \"histogram2dcontour\": [{\"colorbar\": {\"outlinewidth\": 0, \"ticks\": \"\"}, \"colorscale\": [[0.0, \"#0d0887\"], [0.1111111111111111, \"#46039f\"], [0.2222222222222222, \"#7201a8\"], [0.3333333333333333, \"#9c179e\"], [0.4444444444444444, \"#bd3786\"], [0.5555555555555556, \"#d8576b\"], [0.6666666666666666, \"#ed7953\"], [0.7777777777777778, \"#fb9f3a\"], [0.8888888888888888, \"#fdca26\"], [1.0, \"#f0f921\"]], \"type\": \"histogram2dcontour\"}], \"mesh3d\": [{\"colorbar\": {\"outlinewidth\": 0, \"ticks\": \"\"}, \"type\": \"mesh3d\"}], \"parcoords\": [{\"line\": {\"colorbar\": {\"outlinewidth\": 0, \"ticks\": \"\"}}, \"type\": \"parcoords\"}], \"pie\": [{\"automargin\": true, \"type\": \"pie\"}], \"scatter\": [{\"marker\": {\"colorbar\": {\"outlinewidth\": 0, \"ticks\": \"\"}}, \"type\": \"scatter\"}], \"scatter3d\": [{\"line\": {\"colorbar\": {\"outlinewidth\": 0, \"ticks\": \"\"}}, \"marker\": {\"colorbar\": {\"outlinewidth\": 0, \"ticks\": \"\"}}, \"type\": \"scatter3d\"}], \"scattercarpet\": [{\"marker\": {\"colorbar\": {\"outlinewidth\": 0, \"ticks\": \"\"}}, \"type\": \"scattercarpet\"}], \"scattergeo\": [{\"marker\": {\"colorbar\": {\"outlinewidth\": 0, \"ticks\": \"\"}}, \"type\": \"scattergeo\"}], \"scattergl\": [{\"marker\": {\"colorbar\": {\"outlinewidth\": 0, \"ticks\": \"\"}}, \"type\": \"scattergl\"}], \"scattermapbox\": [{\"marker\": {\"colorbar\": {\"outlinewidth\": 0, \"ticks\": \"\"}}, \"type\": \"scattermapbox\"}], \"scatterpolar\": [{\"marker\": {\"colorbar\": {\"outlinewidth\": 0, \"ticks\": \"\"}}, \"type\": \"scatterpolar\"}], \"scatterpolargl\": [{\"marker\": {\"colorbar\": {\"outlinewidth\": 0, \"ticks\": \"\"}}, \"type\": \"scatterpolargl\"}], \"scatterternary\": [{\"marker\": {\"colorbar\": {\"outlinewidth\": 0, \"ticks\": \"\"}}, \"type\": \"scatterternary\"}], \"surface\": [{\"colorbar\": {\"outlinewidth\": 0, \"ticks\": \"\"}, \"colorscale\": [[0.0, \"#0d0887\"], [0.1111111111111111, \"#46039f\"], [0.2222222222222222, \"#7201a8\"], [0.3333333333333333, \"#9c179e\"], [0.4444444444444444, \"#bd3786\"], [0.5555555555555556, \"#d8576b\"], [0.6666666666666666, \"#ed7953\"], [0.7777777777777778, \"#fb9f3a\"], [0.8888888888888888, \"#fdca26\"], [1.0, \"#f0f921\"]], \"type\": \"surface\"}], \"table\": [{\"cells\": {\"fill\": {\"color\": \"#EBF0F8\"}, \"line\": {\"color\": \"white\"}}, \"header\": {\"fill\": {\"color\": \"#C8D4E3\"}, \"line\": {\"color\": \"white\"}}, \"type\": \"table\"}]}, \"layout\": {\"annotationdefaults\": {\"arrowcolor\": \"#2a3f5f\", \"arrowhead\": 0, \"arrowwidth\": 1}, \"coloraxis\": {\"colorbar\": {\"outlinewidth\": 0, \"ticks\": \"\"}}, \"colorscale\": {\"diverging\": [[0, \"#8e0152\"], [0.1, \"#c51b7d\"], [0.2, \"#de77ae\"], [0.3, \"#f1b6da\"], [0.4, \"#fde0ef\"], [0.5, \"#f7f7f7\"], [0.6, \"#e6f5d0\"], [0.7, \"#b8e186\"], [0.8, \"#7fbc41\"], [0.9, \"#4d9221\"], [1, \"#276419\"]], \"sequential\": [[0.0, \"#0d0887\"], [0.1111111111111111, \"#46039f\"], [0.2222222222222222, \"#7201a8\"], [0.3333333333333333, \"#9c179e\"], [0.4444444444444444, \"#bd3786\"], [0.5555555555555556, \"#d8576b\"], [0.6666666666666666, \"#ed7953\"], [0.7777777777777778, \"#fb9f3a\"], [0.8888888888888888, \"#fdca26\"], [1.0, \"#f0f921\"]], \"sequentialminus\": [[0.0, \"#0d0887\"], [0.1111111111111111, \"#46039f\"], [0.2222222222222222, \"#7201a8\"], [0.3333333333333333, \"#9c179e\"], [0.4444444444444444, \"#bd3786\"], [0.5555555555555556, \"#d8576b\"], [0.6666666666666666, \"#ed7953\"], [0.7777777777777778, \"#fb9f3a\"], [0.8888888888888888, \"#fdca26\"], [1.0, \"#f0f921\"]]}, \"colorway\": [\"#636efa\", \"#EF553B\", \"#00cc96\", \"#ab63fa\", \"#FFA15A\", \"#19d3f3\", \"#FF6692\", \"#B6E880\", \"#FF97FF\", \"#FECB52\"], \"font\": {\"color\": \"#2a3f5f\"}, \"geo\": {\"bgcolor\": \"white\", \"lakecolor\": \"white\", \"landcolor\": \"#E5ECF6\", \"showlakes\": true, \"showland\": true, \"subunitcolor\": \"white\"}, \"hoverlabel\": {\"align\": \"left\"}, \"hovermode\": \"closest\", \"mapbox\": {\"style\": \"light\"}, \"paper_bgcolor\": \"white\", \"plot_bgcolor\": \"#E5ECF6\", \"polar\": {\"angularaxis\": {\"gridcolor\": \"white\", \"linecolor\": \"white\", \"ticks\": \"\"}, \"bgcolor\": \"#E5ECF6\", \"radialaxis\": {\"gridcolor\": \"white\", \"linecolor\": \"white\", \"ticks\": \"\"}}, \"scene\": {\"xaxis\": {\"backgroundcolor\": \"#E5ECF6\", \"gridcolor\": \"white\", \"gridwidth\": 2, \"linecolor\": \"white\", \"showbackground\": true, \"ticks\": \"\", \"zerolinecolor\": \"white\"}, \"yaxis\": {\"backgroundcolor\": \"#E5ECF6\", \"gridcolor\": \"white\", \"gridwidth\": 2, \"linecolor\": \"white\", \"showbackground\": true, \"ticks\": \"\", \"zerolinecolor\": \"white\"}, \"zaxis\": {\"backgroundcolor\": \"#E5ECF6\", \"gridcolor\": \"white\", \"gridwidth\": 2, \"linecolor\": \"white\", \"showbackground\": true, \"ticks\": \"\", \"zerolinecolor\": \"white\"}}, \"shapedefaults\": {\"line\": {\"color\": \"#2a3f5f\"}}, \"ternary\": {\"aaxis\": {\"gridcolor\": \"white\", \"linecolor\": \"white\", \"ticks\": \"\"}, \"baxis\": {\"gridcolor\": \"white\", \"linecolor\": \"white\", \"ticks\": \"\"}, \"bgcolor\": \"#E5ECF6\", \"caxis\": {\"gridcolor\": \"white\", \"linecolor\": \"white\", \"ticks\": \"\"}}, \"title\": {\"x\": 0.05}, \"xaxis\": {\"automargin\": true, \"gridcolor\": \"white\", \"linecolor\": \"white\", \"ticks\": \"\", \"title\": {\"standoff\": 15}, \"zerolinecolor\": \"white\", \"zerolinewidth\": 2}, \"yaxis\": {\"automargin\": true, \"gridcolor\": \"white\", \"linecolor\": \"white\", \"ticks\": \"\", \"title\": {\"standoff\": 15}, \"zerolinecolor\": \"white\", \"zerolinewidth\": 2}}}, \"title\": {\"text\": \"Churn Rate by Gender\"}, \"xaxis\": {\"type\": \"category\"}, \"yaxis\": {\"title\": {\"text\": \"Churn Rate\"}}},\n",
              "                        {\"responsive\": true}\n",
              "                    ).then(function(){\n",
              "                            \n",
              "var gd = document.getElementById('6fca5dba-94b0-476c-ba01-1871bf96060f');\n",
              "var x = new MutationObserver(function (mutations, observer) {{\n",
              "        var display = window.getComputedStyle(gd).display;\n",
              "        if (!display || display === 'none') {{\n",
              "            console.log([gd, 'removed!']);\n",
              "            Plotly.purge(gd);\n",
              "            observer.disconnect();\n",
              "        }}\n",
              "}});\n",
              "\n",
              "// Listen for the removal of the full notebook cells\n",
              "var notebookContainer = gd.closest('#notebook-container');\n",
              "if (notebookContainer) {{\n",
              "    x.observe(notebookContainer, {childList: true});\n",
              "}}\n",
              "\n",
              "// Listen for the clearing of the current output cell\n",
              "var outputEl = gd.closest('.output');\n",
              "if (outputEl) {{\n",
              "    x.observe(outputEl, {childList: true});\n",
              "}}\n",
              "\n",
              "                        })\n",
              "                };\n",
              "                \n",
              "            </script>\n",
              "        </div>\n",
              "</body>\n",
              "</html>"
            ]
          },
          "metadata": {
            "tags": []
          }
        }
      ]
    },
    {
      "cell_type": "code",
      "metadata": {
        "id": "681OGbs_45Xh",
        "colab_type": "code",
        "colab": {
          "base_uri": "https://localhost:8080/",
          "height": 542
        },
        "outputId": "cfba13b6-c0e0-4f3d-d124-dffebedc9dcb"
      },
      "source": [
        "# Visualize Churn Rate by Occupation\n",
        "plot_by_gender = churn_data.groupby('occupation').churn.mean().reset_index()\n",
        "plot_data = [\n",
        "    go.Bar(\n",
        "        x=plot_by_gender['occupation'],\n",
        "        y=plot_by_gender['churn'],\n",
        "        width = [0.3, 0.3,0.3,0.3,0.3],\n",
        "        marker=dict(\n",
        "        color=['blue', 'orange','green','brown','red'])\n",
        "    )\n",
        "]\n",
        "plot_layout = go.Layout(\n",
        "        xaxis={\"type\": \"category\"},\n",
        "        yaxis={\"title\": \"Churn Rate\"},\n",
        "        title='Churn Rate by Occupation',\n",
        "        plot_bgcolor  = 'rgb(243,243,243)',\n",
        "        paper_bgcolor  = 'rgb(243,243,243)',\n",
        "    )\n",
        "fig = go.Figure(data=plot_data, layout=plot_layout)\n",
        "po.iplot(fig)"
      ],
      "execution_count": 16,
      "outputs": [
        {
          "output_type": "display_data",
          "data": {
            "text/html": [
              "<html>\n",
              "<head><meta charset=\"utf-8\" /></head>\n",
              "<body>\n",
              "    <div>\n",
              "            <script src=\"https://cdnjs.cloudflare.com/ajax/libs/mathjax/2.7.5/MathJax.js?config=TeX-AMS-MML_SVG\"></script><script type=\"text/javascript\">if (window.MathJax) {MathJax.Hub.Config({SVG: {font: \"STIX-Web\"}});}</script>\n",
              "                <script type=\"text/javascript\">window.PlotlyConfig = {MathJaxConfig: 'local'};</script>\n",
              "        <script src=\"https://cdn.plot.ly/plotly-latest.min.js\"></script>    \n",
              "            <div id=\"7dffb4d6-d082-4927-89ba-aabee71f45fc\" class=\"plotly-graph-div\" style=\"height:525px; width:100%;\"></div>\n",
              "            <script type=\"text/javascript\">\n",
              "                \n",
              "                    window.PLOTLYENV=window.PLOTLYENV || {};\n",
              "                    \n",
              "                if (document.getElementById(\"7dffb4d6-d082-4927-89ba-aabee71f45fc\")) {\n",
              "                    Plotly.newPlot(\n",
              "                        '7dffb4d6-d082-4927-89ba-aabee71f45fc',\n",
              "                        [{\"marker\": {\"color\": [\"blue\", \"orange\", \"green\", \"brown\", \"red\"]}, \"type\": \"bar\", \"width\": [0.3, 0.3, 0.3, 0.3, 0.3], \"x\": [\"company\", \"retired\", \"salaried\", \"self_employed\", \"student\"], \"y\": [0.1, 0.15069169960474307, 0.17109188544152745, 0.19822282980177716, 0.15743440233236153]}],\n",
              "                        {\"paper_bgcolor\": \"rgb(243,243,243)\", \"plot_bgcolor\": \"rgb(243,243,243)\", \"template\": {\"data\": {\"bar\": [{\"error_x\": {\"color\": \"#2a3f5f\"}, \"error_y\": {\"color\": \"#2a3f5f\"}, \"marker\": {\"line\": {\"color\": \"#E5ECF6\", \"width\": 0.5}}, \"type\": \"bar\"}], \"barpolar\": [{\"marker\": {\"line\": {\"color\": \"#E5ECF6\", \"width\": 0.5}}, \"type\": \"barpolar\"}], \"carpet\": [{\"aaxis\": {\"endlinecolor\": \"#2a3f5f\", \"gridcolor\": \"white\", \"linecolor\": \"white\", \"minorgridcolor\": \"white\", \"startlinecolor\": \"#2a3f5f\"}, \"baxis\": {\"endlinecolor\": \"#2a3f5f\", \"gridcolor\": \"white\", \"linecolor\": \"white\", \"minorgridcolor\": \"white\", \"startlinecolor\": \"#2a3f5f\"}, \"type\": \"carpet\"}], \"choropleth\": [{\"colorbar\": {\"outlinewidth\": 0, \"ticks\": \"\"}, \"type\": \"choropleth\"}], \"contour\": [{\"colorbar\": {\"outlinewidth\": 0, \"ticks\": \"\"}, \"colorscale\": [[0.0, \"#0d0887\"], [0.1111111111111111, \"#46039f\"], [0.2222222222222222, \"#7201a8\"], [0.3333333333333333, \"#9c179e\"], [0.4444444444444444, \"#bd3786\"], [0.5555555555555556, \"#d8576b\"], [0.6666666666666666, \"#ed7953\"], [0.7777777777777778, \"#fb9f3a\"], [0.8888888888888888, \"#fdca26\"], [1.0, \"#f0f921\"]], \"type\": \"contour\"}], \"contourcarpet\": [{\"colorbar\": {\"outlinewidth\": 0, \"ticks\": \"\"}, \"type\": \"contourcarpet\"}], \"heatmap\": [{\"colorbar\": {\"outlinewidth\": 0, \"ticks\": \"\"}, \"colorscale\": [[0.0, \"#0d0887\"], [0.1111111111111111, \"#46039f\"], [0.2222222222222222, \"#7201a8\"], [0.3333333333333333, \"#9c179e\"], [0.4444444444444444, \"#bd3786\"], [0.5555555555555556, \"#d8576b\"], [0.6666666666666666, \"#ed7953\"], [0.7777777777777778, \"#fb9f3a\"], [0.8888888888888888, \"#fdca26\"], [1.0, \"#f0f921\"]], \"type\": \"heatmap\"}], \"heatmapgl\": [{\"colorbar\": {\"outlinewidth\": 0, \"ticks\": \"\"}, \"colorscale\": [[0.0, \"#0d0887\"], [0.1111111111111111, \"#46039f\"], [0.2222222222222222, \"#7201a8\"], [0.3333333333333333, \"#9c179e\"], [0.4444444444444444, \"#bd3786\"], [0.5555555555555556, \"#d8576b\"], [0.6666666666666666, \"#ed7953\"], [0.7777777777777778, \"#fb9f3a\"], [0.8888888888888888, \"#fdca26\"], [1.0, \"#f0f921\"]], \"type\": \"heatmapgl\"}], \"histogram\": [{\"marker\": {\"colorbar\": {\"outlinewidth\": 0, \"ticks\": \"\"}}, \"type\": \"histogram\"}], \"histogram2d\": [{\"colorbar\": {\"outlinewidth\": 0, \"ticks\": \"\"}, \"colorscale\": [[0.0, \"#0d0887\"], [0.1111111111111111, \"#46039f\"], [0.2222222222222222, \"#7201a8\"], [0.3333333333333333, \"#9c179e\"], [0.4444444444444444, \"#bd3786\"], [0.5555555555555556, \"#d8576b\"], [0.6666666666666666, \"#ed7953\"], [0.7777777777777778, \"#fb9f3a\"], [0.8888888888888888, \"#fdca26\"], [1.0, \"#f0f921\"]], \"type\": \"histogram2d\"}], \"histogram2dcontour\": [{\"colorbar\": {\"outlinewidth\": 0, \"ticks\": \"\"}, \"colorscale\": [[0.0, \"#0d0887\"], [0.1111111111111111, \"#46039f\"], [0.2222222222222222, \"#7201a8\"], [0.3333333333333333, \"#9c179e\"], [0.4444444444444444, \"#bd3786\"], [0.5555555555555556, \"#d8576b\"], [0.6666666666666666, \"#ed7953\"], [0.7777777777777778, \"#fb9f3a\"], [0.8888888888888888, \"#fdca26\"], [1.0, \"#f0f921\"]], \"type\": \"histogram2dcontour\"}], \"mesh3d\": [{\"colorbar\": {\"outlinewidth\": 0, \"ticks\": \"\"}, \"type\": \"mesh3d\"}], \"parcoords\": [{\"line\": {\"colorbar\": {\"outlinewidth\": 0, \"ticks\": \"\"}}, \"type\": \"parcoords\"}], \"pie\": [{\"automargin\": true, \"type\": \"pie\"}], \"scatter\": [{\"marker\": {\"colorbar\": {\"outlinewidth\": 0, \"ticks\": \"\"}}, \"type\": \"scatter\"}], \"scatter3d\": [{\"line\": {\"colorbar\": {\"outlinewidth\": 0, \"ticks\": \"\"}}, \"marker\": {\"colorbar\": {\"outlinewidth\": 0, \"ticks\": \"\"}}, \"type\": \"scatter3d\"}], \"scattercarpet\": [{\"marker\": {\"colorbar\": {\"outlinewidth\": 0, \"ticks\": \"\"}}, \"type\": \"scattercarpet\"}], \"scattergeo\": [{\"marker\": {\"colorbar\": {\"outlinewidth\": 0, \"ticks\": \"\"}}, \"type\": \"scattergeo\"}], \"scattergl\": [{\"marker\": {\"colorbar\": {\"outlinewidth\": 0, \"ticks\": \"\"}}, \"type\": \"scattergl\"}], \"scattermapbox\": [{\"marker\": {\"colorbar\": {\"outlinewidth\": 0, \"ticks\": \"\"}}, \"type\": \"scattermapbox\"}], \"scatterpolar\": [{\"marker\": {\"colorbar\": {\"outlinewidth\": 0, \"ticks\": \"\"}}, \"type\": \"scatterpolar\"}], \"scatterpolargl\": [{\"marker\": {\"colorbar\": {\"outlinewidth\": 0, \"ticks\": \"\"}}, \"type\": \"scatterpolargl\"}], \"scatterternary\": [{\"marker\": {\"colorbar\": {\"outlinewidth\": 0, \"ticks\": \"\"}}, \"type\": \"scatterternary\"}], \"surface\": [{\"colorbar\": {\"outlinewidth\": 0, \"ticks\": \"\"}, \"colorscale\": [[0.0, \"#0d0887\"], [0.1111111111111111, \"#46039f\"], [0.2222222222222222, \"#7201a8\"], [0.3333333333333333, \"#9c179e\"], [0.4444444444444444, \"#bd3786\"], [0.5555555555555556, \"#d8576b\"], [0.6666666666666666, \"#ed7953\"], [0.7777777777777778, \"#fb9f3a\"], [0.8888888888888888, \"#fdca26\"], [1.0, \"#f0f921\"]], \"type\": \"surface\"}], \"table\": [{\"cells\": {\"fill\": {\"color\": \"#EBF0F8\"}, \"line\": {\"color\": \"white\"}}, \"header\": {\"fill\": {\"color\": \"#C8D4E3\"}, \"line\": {\"color\": \"white\"}}, \"type\": \"table\"}]}, \"layout\": {\"annotationdefaults\": {\"arrowcolor\": \"#2a3f5f\", \"arrowhead\": 0, \"arrowwidth\": 1}, \"coloraxis\": {\"colorbar\": {\"outlinewidth\": 0, \"ticks\": \"\"}}, \"colorscale\": {\"diverging\": [[0, \"#8e0152\"], [0.1, \"#c51b7d\"], [0.2, \"#de77ae\"], [0.3, \"#f1b6da\"], [0.4, \"#fde0ef\"], [0.5, \"#f7f7f7\"], [0.6, \"#e6f5d0\"], [0.7, \"#b8e186\"], [0.8, \"#7fbc41\"], [0.9, \"#4d9221\"], [1, \"#276419\"]], \"sequential\": [[0.0, \"#0d0887\"], [0.1111111111111111, \"#46039f\"], [0.2222222222222222, \"#7201a8\"], [0.3333333333333333, \"#9c179e\"], [0.4444444444444444, \"#bd3786\"], [0.5555555555555556, \"#d8576b\"], [0.6666666666666666, \"#ed7953\"], [0.7777777777777778, \"#fb9f3a\"], [0.8888888888888888, \"#fdca26\"], [1.0, \"#f0f921\"]], \"sequentialminus\": [[0.0, \"#0d0887\"], [0.1111111111111111, \"#46039f\"], [0.2222222222222222, \"#7201a8\"], [0.3333333333333333, \"#9c179e\"], [0.4444444444444444, \"#bd3786\"], [0.5555555555555556, \"#d8576b\"], [0.6666666666666666, \"#ed7953\"], [0.7777777777777778, \"#fb9f3a\"], [0.8888888888888888, \"#fdca26\"], [1.0, \"#f0f921\"]]}, \"colorway\": [\"#636efa\", \"#EF553B\", \"#00cc96\", \"#ab63fa\", \"#FFA15A\", \"#19d3f3\", \"#FF6692\", \"#B6E880\", \"#FF97FF\", \"#FECB52\"], \"font\": {\"color\": \"#2a3f5f\"}, \"geo\": {\"bgcolor\": \"white\", \"lakecolor\": \"white\", \"landcolor\": \"#E5ECF6\", \"showlakes\": true, \"showland\": true, \"subunitcolor\": \"white\"}, \"hoverlabel\": {\"align\": \"left\"}, \"hovermode\": \"closest\", \"mapbox\": {\"style\": \"light\"}, \"paper_bgcolor\": \"white\", \"plot_bgcolor\": \"#E5ECF6\", \"polar\": {\"angularaxis\": {\"gridcolor\": \"white\", \"linecolor\": \"white\", \"ticks\": \"\"}, \"bgcolor\": \"#E5ECF6\", \"radialaxis\": {\"gridcolor\": \"white\", \"linecolor\": \"white\", \"ticks\": \"\"}}, \"scene\": {\"xaxis\": {\"backgroundcolor\": \"#E5ECF6\", \"gridcolor\": \"white\", \"gridwidth\": 2, \"linecolor\": \"white\", \"showbackground\": true, \"ticks\": \"\", \"zerolinecolor\": \"white\"}, \"yaxis\": {\"backgroundcolor\": \"#E5ECF6\", \"gridcolor\": \"white\", \"gridwidth\": 2, \"linecolor\": \"white\", \"showbackground\": true, \"ticks\": \"\", \"zerolinecolor\": \"white\"}, \"zaxis\": {\"backgroundcolor\": \"#E5ECF6\", \"gridcolor\": \"white\", \"gridwidth\": 2, \"linecolor\": \"white\", \"showbackground\": true, \"ticks\": \"\", \"zerolinecolor\": \"white\"}}, \"shapedefaults\": {\"line\": {\"color\": \"#2a3f5f\"}}, \"ternary\": {\"aaxis\": {\"gridcolor\": \"white\", \"linecolor\": \"white\", \"ticks\": \"\"}, \"baxis\": {\"gridcolor\": \"white\", \"linecolor\": \"white\", \"ticks\": \"\"}, \"bgcolor\": \"#E5ECF6\", \"caxis\": {\"gridcolor\": \"white\", \"linecolor\": \"white\", \"ticks\": \"\"}}, \"title\": {\"x\": 0.05}, \"xaxis\": {\"automargin\": true, \"gridcolor\": \"white\", \"linecolor\": \"white\", \"ticks\": \"\", \"title\": {\"standoff\": 15}, \"zerolinecolor\": \"white\", \"zerolinewidth\": 2}, \"yaxis\": {\"automargin\": true, \"gridcolor\": \"white\", \"linecolor\": \"white\", \"ticks\": \"\", \"title\": {\"standoff\": 15}, \"zerolinecolor\": \"white\", \"zerolinewidth\": 2}}}, \"title\": {\"text\": \"Churn Rate by Occupation\"}, \"xaxis\": {\"type\": \"category\"}, \"yaxis\": {\"title\": {\"text\": \"Churn Rate\"}}},\n",
              "                        {\"responsive\": true}\n",
              "                    ).then(function(){\n",
              "                            \n",
              "var gd = document.getElementById('7dffb4d6-d082-4927-89ba-aabee71f45fc');\n",
              "var x = new MutationObserver(function (mutations, observer) {{\n",
              "        var display = window.getComputedStyle(gd).display;\n",
              "        if (!display || display === 'none') {{\n",
              "            console.log([gd, 'removed!']);\n",
              "            Plotly.purge(gd);\n",
              "            observer.disconnect();\n",
              "        }}\n",
              "}});\n",
              "\n",
              "// Listen for the removal of the full notebook cells\n",
              "var notebookContainer = gd.closest('#notebook-container');\n",
              "if (notebookContainer) {{\n",
              "    x.observe(notebookContainer, {childList: true});\n",
              "}}\n",
              "\n",
              "// Listen for the clearing of the current output cell\n",
              "var outputEl = gd.closest('.output');\n",
              "if (outputEl) {{\n",
              "    x.observe(outputEl, {childList: true});\n",
              "}}\n",
              "\n",
              "                        })\n",
              "                };\n",
              "                \n",
              "            </script>\n",
              "        </div>\n",
              "</body>\n",
              "</html>"
            ]
          },
          "metadata": {
            "tags": []
          }
        }
      ]
    },
    {
      "cell_type": "code",
      "metadata": {
        "id": "BX0eQPWy6I_W",
        "colab_type": "code",
        "colab": {
          "base_uri": "https://localhost:8080/",
          "height": 542
        },
        "outputId": "7a07f31f-c8d2-4b80-99b7-1bcdb80d8b33"
      },
      "source": [
        "# # Visualize Churn Rate by customer net worth category\n",
        "plot_by_gender = churn_data.groupby('customer_nw_category').churn.mean().reset_index()\n",
        "plot_data = [\n",
        "    go.Bar(\n",
        "        x=plot_by_gender['customer_nw_category'],\n",
        "        y=plot_by_gender['churn'],\n",
        "        width = [0.3, 0.3, 0.3],\n",
        "        marker=dict(\n",
        "        color=['blue', 'orange','green'])\n",
        "    )\n",
        "]\n",
        "plot_layout = go.Layout(\n",
        "        xaxis={\"type\": \"category\"},\n",
        "        yaxis={\"title\": \"Churn Rate\"},\n",
        "        title='Churn Rate by customer_nw_category',\n",
        "        plot_bgcolor  = 'rgb(243,243,243)',\n",
        "        paper_bgcolor  = 'rgb(243,243,243)',\n",
        "    )\n",
        "fig = go.Figure(data=plot_data, layout=plot_layout)\n",
        "po.iplot(fig)"
      ],
      "execution_count": 17,
      "outputs": [
        {
          "output_type": "display_data",
          "data": {
            "text/html": [
              "<html>\n",
              "<head><meta charset=\"utf-8\" /></head>\n",
              "<body>\n",
              "    <div>\n",
              "            <script src=\"https://cdnjs.cloudflare.com/ajax/libs/mathjax/2.7.5/MathJax.js?config=TeX-AMS-MML_SVG\"></script><script type=\"text/javascript\">if (window.MathJax) {MathJax.Hub.Config({SVG: {font: \"STIX-Web\"}});}</script>\n",
              "                <script type=\"text/javascript\">window.PlotlyConfig = {MathJaxConfig: 'local'};</script>\n",
              "        <script src=\"https://cdn.plot.ly/plotly-latest.min.js\"></script>    \n",
              "            <div id=\"cbde9ad9-cbd2-43ba-90bb-45cb857b7712\" class=\"plotly-graph-div\" style=\"height:525px; width:100%;\"></div>\n",
              "            <script type=\"text/javascript\">\n",
              "                \n",
              "                    window.PLOTLYENV=window.PLOTLYENV || {};\n",
              "                    \n",
              "                if (document.getElementById(\"cbde9ad9-cbd2-43ba-90bb-45cb857b7712\")) {\n",
              "                    Plotly.newPlot(\n",
              "                        'cbde9ad9-cbd2-43ba-90bb-45cb857b7712',\n",
              "                        [{\"marker\": {\"color\": [\"blue\", \"orange\", \"green\"]}, \"type\": \"bar\", \"width\": [0.3, 0.3, 0.3], \"x\": [1, 2, 3], \"y\": [0.19132309350579357, 0.17899581015179614, 0.19224683544303797]}],\n",
              "                        {\"paper_bgcolor\": \"rgb(243,243,243)\", \"plot_bgcolor\": \"rgb(243,243,243)\", \"template\": {\"data\": {\"bar\": [{\"error_x\": {\"color\": \"#2a3f5f\"}, \"error_y\": {\"color\": \"#2a3f5f\"}, \"marker\": {\"line\": {\"color\": \"#E5ECF6\", \"width\": 0.5}}, \"type\": \"bar\"}], \"barpolar\": [{\"marker\": {\"line\": {\"color\": \"#E5ECF6\", \"width\": 0.5}}, \"type\": \"barpolar\"}], \"carpet\": [{\"aaxis\": {\"endlinecolor\": \"#2a3f5f\", \"gridcolor\": \"white\", \"linecolor\": \"white\", \"minorgridcolor\": \"white\", \"startlinecolor\": \"#2a3f5f\"}, \"baxis\": {\"endlinecolor\": \"#2a3f5f\", \"gridcolor\": \"white\", \"linecolor\": \"white\", \"minorgridcolor\": \"white\", \"startlinecolor\": \"#2a3f5f\"}, \"type\": \"carpet\"}], \"choropleth\": [{\"colorbar\": {\"outlinewidth\": 0, \"ticks\": \"\"}, \"type\": \"choropleth\"}], \"contour\": [{\"colorbar\": {\"outlinewidth\": 0, \"ticks\": \"\"}, \"colorscale\": [[0.0, \"#0d0887\"], [0.1111111111111111, \"#46039f\"], [0.2222222222222222, \"#7201a8\"], [0.3333333333333333, \"#9c179e\"], [0.4444444444444444, \"#bd3786\"], [0.5555555555555556, \"#d8576b\"], [0.6666666666666666, \"#ed7953\"], [0.7777777777777778, \"#fb9f3a\"], [0.8888888888888888, \"#fdca26\"], [1.0, \"#f0f921\"]], \"type\": \"contour\"}], \"contourcarpet\": [{\"colorbar\": {\"outlinewidth\": 0, \"ticks\": \"\"}, \"type\": \"contourcarpet\"}], \"heatmap\": [{\"colorbar\": {\"outlinewidth\": 0, \"ticks\": \"\"}, \"colorscale\": [[0.0, \"#0d0887\"], [0.1111111111111111, \"#46039f\"], [0.2222222222222222, \"#7201a8\"], [0.3333333333333333, \"#9c179e\"], [0.4444444444444444, \"#bd3786\"], [0.5555555555555556, \"#d8576b\"], [0.6666666666666666, \"#ed7953\"], [0.7777777777777778, \"#fb9f3a\"], [0.8888888888888888, \"#fdca26\"], [1.0, \"#f0f921\"]], \"type\": \"heatmap\"}], \"heatmapgl\": [{\"colorbar\": {\"outlinewidth\": 0, \"ticks\": \"\"}, \"colorscale\": [[0.0, \"#0d0887\"], [0.1111111111111111, \"#46039f\"], [0.2222222222222222, \"#7201a8\"], [0.3333333333333333, \"#9c179e\"], [0.4444444444444444, \"#bd3786\"], [0.5555555555555556, \"#d8576b\"], [0.6666666666666666, \"#ed7953\"], [0.7777777777777778, \"#fb9f3a\"], [0.8888888888888888, \"#fdca26\"], [1.0, \"#f0f921\"]], \"type\": \"heatmapgl\"}], \"histogram\": [{\"marker\": {\"colorbar\": {\"outlinewidth\": 0, \"ticks\": \"\"}}, \"type\": \"histogram\"}], \"histogram2d\": [{\"colorbar\": {\"outlinewidth\": 0, \"ticks\": \"\"}, \"colorscale\": [[0.0, \"#0d0887\"], [0.1111111111111111, \"#46039f\"], [0.2222222222222222, \"#7201a8\"], [0.3333333333333333, \"#9c179e\"], [0.4444444444444444, \"#bd3786\"], [0.5555555555555556, \"#d8576b\"], [0.6666666666666666, \"#ed7953\"], [0.7777777777777778, \"#fb9f3a\"], [0.8888888888888888, \"#fdca26\"], [1.0, \"#f0f921\"]], \"type\": \"histogram2d\"}], \"histogram2dcontour\": [{\"colorbar\": {\"outlinewidth\": 0, \"ticks\": \"\"}, \"colorscale\": [[0.0, \"#0d0887\"], [0.1111111111111111, \"#46039f\"], [0.2222222222222222, \"#7201a8\"], [0.3333333333333333, \"#9c179e\"], [0.4444444444444444, \"#bd3786\"], [0.5555555555555556, \"#d8576b\"], [0.6666666666666666, \"#ed7953\"], [0.7777777777777778, \"#fb9f3a\"], [0.8888888888888888, \"#fdca26\"], [1.0, \"#f0f921\"]], \"type\": \"histogram2dcontour\"}], \"mesh3d\": [{\"colorbar\": {\"outlinewidth\": 0, \"ticks\": \"\"}, \"type\": \"mesh3d\"}], \"parcoords\": [{\"line\": {\"colorbar\": {\"outlinewidth\": 0, \"ticks\": \"\"}}, \"type\": \"parcoords\"}], \"pie\": [{\"automargin\": true, \"type\": \"pie\"}], \"scatter\": [{\"marker\": {\"colorbar\": {\"outlinewidth\": 0, \"ticks\": \"\"}}, \"type\": \"scatter\"}], \"scatter3d\": [{\"line\": {\"colorbar\": {\"outlinewidth\": 0, \"ticks\": \"\"}}, \"marker\": {\"colorbar\": {\"outlinewidth\": 0, \"ticks\": \"\"}}, \"type\": \"scatter3d\"}], \"scattercarpet\": [{\"marker\": {\"colorbar\": {\"outlinewidth\": 0, \"ticks\": \"\"}}, \"type\": \"scattercarpet\"}], \"scattergeo\": [{\"marker\": {\"colorbar\": {\"outlinewidth\": 0, \"ticks\": \"\"}}, \"type\": \"scattergeo\"}], \"scattergl\": [{\"marker\": {\"colorbar\": {\"outlinewidth\": 0, \"ticks\": \"\"}}, \"type\": \"scattergl\"}], \"scattermapbox\": [{\"marker\": {\"colorbar\": {\"outlinewidth\": 0, \"ticks\": \"\"}}, \"type\": \"scattermapbox\"}], \"scatterpolar\": [{\"marker\": {\"colorbar\": {\"outlinewidth\": 0, \"ticks\": \"\"}}, \"type\": \"scatterpolar\"}], \"scatterpolargl\": [{\"marker\": {\"colorbar\": {\"outlinewidth\": 0, \"ticks\": \"\"}}, \"type\": \"scatterpolargl\"}], \"scatterternary\": [{\"marker\": {\"colorbar\": {\"outlinewidth\": 0, \"ticks\": \"\"}}, \"type\": \"scatterternary\"}], \"surface\": [{\"colorbar\": {\"outlinewidth\": 0, \"ticks\": \"\"}, \"colorscale\": [[0.0, \"#0d0887\"], [0.1111111111111111, \"#46039f\"], [0.2222222222222222, \"#7201a8\"], [0.3333333333333333, \"#9c179e\"], [0.4444444444444444, \"#bd3786\"], [0.5555555555555556, \"#d8576b\"], [0.6666666666666666, \"#ed7953\"], [0.7777777777777778, \"#fb9f3a\"], [0.8888888888888888, \"#fdca26\"], [1.0, \"#f0f921\"]], \"type\": \"surface\"}], \"table\": [{\"cells\": {\"fill\": {\"color\": \"#EBF0F8\"}, \"line\": {\"color\": \"white\"}}, \"header\": {\"fill\": {\"color\": \"#C8D4E3\"}, \"line\": {\"color\": \"white\"}}, \"type\": \"table\"}]}, \"layout\": {\"annotationdefaults\": {\"arrowcolor\": \"#2a3f5f\", \"arrowhead\": 0, \"arrowwidth\": 1}, \"coloraxis\": {\"colorbar\": {\"outlinewidth\": 0, \"ticks\": \"\"}}, \"colorscale\": {\"diverging\": [[0, \"#8e0152\"], [0.1, \"#c51b7d\"], [0.2, \"#de77ae\"], [0.3, \"#f1b6da\"], [0.4, \"#fde0ef\"], [0.5, \"#f7f7f7\"], [0.6, \"#e6f5d0\"], [0.7, \"#b8e186\"], [0.8, \"#7fbc41\"], [0.9, \"#4d9221\"], [1, \"#276419\"]], \"sequential\": [[0.0, \"#0d0887\"], [0.1111111111111111, \"#46039f\"], [0.2222222222222222, \"#7201a8\"], [0.3333333333333333, \"#9c179e\"], [0.4444444444444444, \"#bd3786\"], [0.5555555555555556, \"#d8576b\"], [0.6666666666666666, \"#ed7953\"], [0.7777777777777778, \"#fb9f3a\"], [0.8888888888888888, \"#fdca26\"], [1.0, \"#f0f921\"]], \"sequentialminus\": [[0.0, \"#0d0887\"], [0.1111111111111111, \"#46039f\"], [0.2222222222222222, \"#7201a8\"], [0.3333333333333333, \"#9c179e\"], [0.4444444444444444, \"#bd3786\"], [0.5555555555555556, \"#d8576b\"], [0.6666666666666666, \"#ed7953\"], [0.7777777777777778, \"#fb9f3a\"], [0.8888888888888888, \"#fdca26\"], [1.0, \"#f0f921\"]]}, \"colorway\": [\"#636efa\", \"#EF553B\", \"#00cc96\", \"#ab63fa\", \"#FFA15A\", \"#19d3f3\", \"#FF6692\", \"#B6E880\", \"#FF97FF\", \"#FECB52\"], \"font\": {\"color\": \"#2a3f5f\"}, \"geo\": {\"bgcolor\": \"white\", \"lakecolor\": \"white\", \"landcolor\": \"#E5ECF6\", \"showlakes\": true, \"showland\": true, \"subunitcolor\": \"white\"}, \"hoverlabel\": {\"align\": \"left\"}, \"hovermode\": \"closest\", \"mapbox\": {\"style\": \"light\"}, \"paper_bgcolor\": \"white\", \"plot_bgcolor\": \"#E5ECF6\", \"polar\": {\"angularaxis\": {\"gridcolor\": \"white\", \"linecolor\": \"white\", \"ticks\": \"\"}, \"bgcolor\": \"#E5ECF6\", \"radialaxis\": {\"gridcolor\": \"white\", \"linecolor\": \"white\", \"ticks\": \"\"}}, \"scene\": {\"xaxis\": {\"backgroundcolor\": \"#E5ECF6\", \"gridcolor\": \"white\", \"gridwidth\": 2, \"linecolor\": \"white\", \"showbackground\": true, \"ticks\": \"\", \"zerolinecolor\": \"white\"}, \"yaxis\": {\"backgroundcolor\": \"#E5ECF6\", \"gridcolor\": \"white\", \"gridwidth\": 2, \"linecolor\": \"white\", \"showbackground\": true, \"ticks\": \"\", \"zerolinecolor\": \"white\"}, \"zaxis\": {\"backgroundcolor\": \"#E5ECF6\", \"gridcolor\": \"white\", \"gridwidth\": 2, \"linecolor\": \"white\", \"showbackground\": true, \"ticks\": \"\", \"zerolinecolor\": \"white\"}}, \"shapedefaults\": {\"line\": {\"color\": \"#2a3f5f\"}}, \"ternary\": {\"aaxis\": {\"gridcolor\": \"white\", \"linecolor\": \"white\", \"ticks\": \"\"}, \"baxis\": {\"gridcolor\": \"white\", \"linecolor\": \"white\", \"ticks\": \"\"}, \"bgcolor\": \"#E5ECF6\", \"caxis\": {\"gridcolor\": \"white\", \"linecolor\": \"white\", \"ticks\": \"\"}}, \"title\": {\"x\": 0.05}, \"xaxis\": {\"automargin\": true, \"gridcolor\": \"white\", \"linecolor\": \"white\", \"ticks\": \"\", \"title\": {\"standoff\": 15}, \"zerolinecolor\": \"white\", \"zerolinewidth\": 2}, \"yaxis\": {\"automargin\": true, \"gridcolor\": \"white\", \"linecolor\": \"white\", \"ticks\": \"\", \"title\": {\"standoff\": 15}, \"zerolinecolor\": \"white\", \"zerolinewidth\": 2}}}, \"title\": {\"text\": \"Churn Rate by customer_nw_category\"}, \"xaxis\": {\"type\": \"category\"}, \"yaxis\": {\"title\": {\"text\": \"Churn Rate\"}}},\n",
              "                        {\"responsive\": true}\n",
              "                    ).then(function(){\n",
              "                            \n",
              "var gd = document.getElementById('cbde9ad9-cbd2-43ba-90bb-45cb857b7712');\n",
              "var x = new MutationObserver(function (mutations, observer) {{\n",
              "        var display = window.getComputedStyle(gd).display;\n",
              "        if (!display || display === 'none') {{\n",
              "            console.log([gd, 'removed!']);\n",
              "            Plotly.purge(gd);\n",
              "            observer.disconnect();\n",
              "        }}\n",
              "}});\n",
              "\n",
              "// Listen for the removal of the full notebook cells\n",
              "var notebookContainer = gd.closest('#notebook-container');\n",
              "if (notebookContainer) {{\n",
              "    x.observe(notebookContainer, {childList: true});\n",
              "}}\n",
              "\n",
              "// Listen for the clearing of the current output cell\n",
              "var outputEl = gd.closest('.output');\n",
              "if (outputEl) {{\n",
              "    x.observe(outputEl, {childList: true});\n",
              "}}\n",
              "\n",
              "                        })\n",
              "                };\n",
              "                \n",
              "            </script>\n",
              "        </div>\n",
              "</body>\n",
              "</html>"
            ]
          },
          "metadata": {
            "tags": []
          }
        }
      ]
    },
    {
      "cell_type": "markdown",
      "metadata": {
        "id": "KLpiJFkZmytm",
        "colab_type": "text"
      },
      "source": [
        "### **Encoding categorical variable**"
      ]
    },
    {
      "cell_type": "code",
      "metadata": {
        "id": "rrQBlEV3CK9I",
        "colab_type": "code",
        "colab": {}
      },
      "source": [
        "# Encoding categorical variable 'gender' and 'occupation'\n",
        "churn_data=pd.get_dummies(churn_data,columns=['gender','occupation'],drop_first=True)"
      ],
      "execution_count": 18,
      "outputs": []
    },
    {
      "cell_type": "code",
      "metadata": {
        "id": "oIBpBdIhCyjR",
        "colab_type": "code",
        "colab": {
          "base_uri": "https://localhost:8080/",
          "height": 187
        },
        "outputId": "76c51835-743b-45ec-92db-d0bb8d523715"
      },
      "source": [
        "# After encoding ,no.of columns got increased\n",
        "churn_data.columns"
      ],
      "execution_count": 19,
      "outputs": [
        {
          "output_type": "execute_result",
          "data": {
            "text/plain": [
              "Index(['customer_id', 'vintage', 'age', 'dependents', 'city',\n",
              "       'customer_nw_category', 'branch_code', 'days_since_last_transaction',\n",
              "       'current_balance', 'previous_month_end_balance',\n",
              "       'average_monthly_balance_prevQ', 'average_monthly_balance_prevQ2',\n",
              "       'current_month_credit', 'previous_month_credit', 'current_month_debit',\n",
              "       'previous_month_debit', 'current_month_balance',\n",
              "       'previous_month_balance', 'churn', 'gender_Male', 'occupation_retired',\n",
              "       'occupation_salaried', 'occupation_self_employed',\n",
              "       'occupation_student'],\n",
              "      dtype='object')"
            ]
          },
          "metadata": {
            "tags": []
          },
          "execution_count": 19
        }
      ]
    },
    {
      "cell_type": "markdown",
      "metadata": {
        "id": "fNME6-C9m4QM",
        "colab_type": "text"
      },
      "source": [
        "### **Feature Scaling**"
      ]
    },
    {
      "cell_type": "code",
      "metadata": {
        "id": "wk8J-IrMC-Wl",
        "colab_type": "code",
        "colab": {}
      },
      "source": [
        "#performing feature scaling\n",
        "from sklearn.preprocessing import StandardScaler\n",
        "sc=StandardScaler()\n",
        "columns_fit_for_scaling=['vintage', 'age', 'dependents','customer_nw_category', 'branch_code', 'days_since_last_transaction',\n",
        "       'current_balance', 'previous_month_end_balance','average_monthly_balance_prevQ', 'average_monthly_balance_prevQ2',\n",
        "       'current_month_credit', 'previous_month_credit', 'current_month_debit','previous_month_debit', 'current_month_balance',\n",
        "       'previous_month_balance']\n",
        "churn_data[columns_fit_for_scaling]=sc.fit_transform(churn_data[columns_fit_for_scaling])"
      ],
      "execution_count": 20,
      "outputs": []
    },
    {
      "cell_type": "code",
      "metadata": {
        "id": "YJuoHwE2E1K1",
        "colab_type": "code",
        "colab": {
          "base_uri": "https://localhost:8080/",
          "height": 224
        },
        "outputId": "9ca81dc6-c10d-45d9-d40e-947f9c32cc5d"
      },
      "source": [
        "# seeing subset of data after feature scaling\n",
        "churn_data.head()"
      ],
      "execution_count": 21,
      "outputs": [
        {
          "output_type": "execute_result",
          "data": {
            "text/html": [
              "<div>\n",
              "<style scoped>\n",
              "    .dataframe tbody tr th:only-of-type {\n",
              "        vertical-align: middle;\n",
              "    }\n",
              "\n",
              "    .dataframe tbody tr th {\n",
              "        vertical-align: top;\n",
              "    }\n",
              "\n",
              "    .dataframe thead th {\n",
              "        text-align: right;\n",
              "    }\n",
              "</style>\n",
              "<table border=\"1\" class=\"dataframe\">\n",
              "  <thead>\n",
              "    <tr style=\"text-align: right;\">\n",
              "      <th></th>\n",
              "      <th>customer_id</th>\n",
              "      <th>vintage</th>\n",
              "      <th>age</th>\n",
              "      <th>dependents</th>\n",
              "      <th>city</th>\n",
              "      <th>customer_nw_category</th>\n",
              "      <th>branch_code</th>\n",
              "      <th>days_since_last_transaction</th>\n",
              "      <th>current_balance</th>\n",
              "      <th>previous_month_end_balance</th>\n",
              "      <th>average_monthly_balance_prevQ</th>\n",
              "      <th>average_monthly_balance_prevQ2</th>\n",
              "      <th>current_month_credit</th>\n",
              "      <th>previous_month_credit</th>\n",
              "      <th>current_month_debit</th>\n",
              "      <th>previous_month_debit</th>\n",
              "      <th>current_month_balance</th>\n",
              "      <th>previous_month_balance</th>\n",
              "      <th>churn</th>\n",
              "      <th>gender_Male</th>\n",
              "      <th>occupation_retired</th>\n",
              "      <th>occupation_salaried</th>\n",
              "      <th>occupation_self_employed</th>\n",
              "      <th>occupation_student</th>\n",
              "    </tr>\n",
              "  </thead>\n",
              "  <tbody>\n",
              "    <tr>\n",
              "      <th>0</th>\n",
              "      <td>1</td>\n",
              "      <td>0.478644</td>\n",
              "      <td>0.999147</td>\n",
              "      <td>-0.330877</td>\n",
              "      <td>187.0</td>\n",
              "      <td>-0.341489</td>\n",
              "      <td>-0.182318</td>\n",
              "      <td>1.894492e+00</td>\n",
              "      <td>-0.139017</td>\n",
              "      <td>-0.141953</td>\n",
              "      <td>-0.144709</td>\n",
              "      <td>-0.127317</td>\n",
              "      <td>-0.044545</td>\n",
              "      <td>-0.109858</td>\n",
              "      <td>-0.070378</td>\n",
              "      <td>-0.137427</td>\n",
              "      <td>-0.142564</td>\n",
              "      <td>-0.142265</td>\n",
              "      <td>0</td>\n",
              "      <td>1</td>\n",
              "      <td>0</td>\n",
              "      <td>0</td>\n",
              "      <td>1</td>\n",
              "      <td>0</td>\n",
              "    </tr>\n",
              "    <tr>\n",
              "      <th>1</th>\n",
              "      <td>2</td>\n",
              "      <td>-1.275909</td>\n",
              "      <td>-0.741756</td>\n",
              "      <td>-0.330877</td>\n",
              "      <td>NaN</td>\n",
              "      <td>-0.341489</td>\n",
              "      <td>2.439824</td>\n",
              "      <td>-1.229903e-01</td>\n",
              "      <td>-0.046720</td>\n",
              "      <td>0.028425</td>\n",
              "      <td>0.007249</td>\n",
              "      <td>0.118793</td>\n",
              "      <td>-0.044540</td>\n",
              "      <td>-0.109846</td>\n",
              "      <td>0.035155</td>\n",
              "      <td>-0.133297</td>\n",
              "      <td>-0.022705</td>\n",
              "      <td>0.030459</td>\n",
              "      <td>0</td>\n",
              "      <td>1</td>\n",
              "      <td>0</td>\n",
              "      <td>0</td>\n",
              "      <td>1</td>\n",
              "      <td>0</td>\n",
              "    </tr>\n",
              "    <tr>\n",
              "      <th>2</th>\n",
              "      <td>4</td>\n",
              "      <td>-0.005178</td>\n",
              "      <td>-0.966389</td>\n",
              "      <td>-0.330877</td>\n",
              "      <td>146.0</td>\n",
              "      <td>-0.341489</td>\n",
              "      <td>-0.943689</td>\n",
              "      <td>1.748180e-16</td>\n",
              "      <td>-0.081398</td>\n",
              "      <td>-0.039514</td>\n",
              "      <td>-0.061991</td>\n",
              "      <td>-0.096652</td>\n",
              "      <td>-0.044539</td>\n",
              "      <td>-0.109844</td>\n",
              "      <td>0.045936</td>\n",
              "      <td>-0.126767</td>\n",
              "      <td>-0.058165</td>\n",
              "      <td>-0.057152</td>\n",
              "      <td>0</td>\n",
              "      <td>1</td>\n",
              "      <td>0</td>\n",
              "      <td>1</td>\n",
              "      <td>0</td>\n",
              "      <td>0</td>\n",
              "    </tr>\n",
              "    <tr>\n",
              "      <th>3</th>\n",
              "      <td>5</td>\n",
              "      <td>-1.171568</td>\n",
              "      <td>2.346943</td>\n",
              "      <td>-0.330877</td>\n",
              "      <td>1020.0</td>\n",
              "      <td>-0.341489</td>\n",
              "      <td>-0.366796</td>\n",
              "      <td>9.472594e-01</td>\n",
              "      <td>-0.119457</td>\n",
              "      <td>-0.122361</td>\n",
              "      <td>-0.129711</td>\n",
              "      <td>-0.137244</td>\n",
              "      <td>-0.044541</td>\n",
              "      <td>-0.109849</td>\n",
              "      <td>-0.070372</td>\n",
              "      <td>-0.049234</td>\n",
              "      <td>-0.122742</td>\n",
              "      <td>-0.137290</td>\n",
              "      <td>1</td>\n",
              "      <td>1</td>\n",
              "      <td>0</td>\n",
              "      <td>0</td>\n",
              "      <td>1</td>\n",
              "      <td>0</td>\n",
              "    </tr>\n",
              "    <tr>\n",
              "      <th>4</th>\n",
              "      <td>6</td>\n",
              "      <td>0.103512</td>\n",
              "      <td>-0.348649</td>\n",
              "      <td>1.756001</td>\n",
              "      <td>1494.0</td>\n",
              "      <td>1.172672</td>\n",
              "      <td>-0.573667</td>\n",
              "      <td>-1.475938e-01</td>\n",
              "      <td>-0.151482</td>\n",
              "      <td>-0.143293</td>\n",
              "      <td>-0.140285</td>\n",
              "      <td>-0.117848</td>\n",
              "      <td>-0.044543</td>\n",
              "      <td>-0.085794</td>\n",
              "      <td>-0.059058</td>\n",
              "      <td>-0.074142</td>\n",
              "      <td>-0.149738</td>\n",
              "      <td>-0.137116</td>\n",
              "      <td>1</td>\n",
              "      <td>1</td>\n",
              "      <td>0</td>\n",
              "      <td>0</td>\n",
              "      <td>1</td>\n",
              "      <td>0</td>\n",
              "    </tr>\n",
              "  </tbody>\n",
              "</table>\n",
              "</div>"
            ],
            "text/plain": [
              "   customer_id   vintage  ...  occupation_self_employed  occupation_student\n",
              "0            1  0.478644  ...                         1                   0\n",
              "1            2 -1.275909  ...                         1                   0\n",
              "2            4 -0.005178  ...                         0                   0\n",
              "3            5 -1.171568  ...                         1                   0\n",
              "4            6  0.103512  ...                         1                   0\n",
              "\n",
              "[5 rows x 24 columns]"
            ]
          },
          "metadata": {
            "tags": []
          },
          "execution_count": 21
        }
      ]
    },
    {
      "cell_type": "markdown",
      "metadata": {
        "id": "SJvU9vqgm8-P",
        "colab_type": "text"
      },
      "source": [
        "### **Separation of training and testing data**"
      ]
    },
    {
      "cell_type": "code",
      "metadata": {
        "id": "WPOcb6l1E_bq",
        "colab_type": "code",
        "colab": {}
      },
      "source": [
        "# separating dependent and independent variables\n",
        "X=churn_data.drop(['churn','customer_id','city'],axis=1)\n",
        "Y=churn_data['churn']"
      ],
      "execution_count": 22,
      "outputs": []
    },
    {
      "cell_type": "markdown",
      "metadata": {
        "id": "3fFsLq65nEzX",
        "colab_type": "text"
      },
      "source": [
        "### **splitting of dataset**"
      ]
    },
    {
      "cell_type": "code",
      "metadata": {
        "id": "2W1ofKH3FjX2",
        "colab_type": "code",
        "colab": {}
      },
      "source": [
        "# splitting the data into training set(70%) and test set(30%)\n",
        "from sklearn.model_selection import train_test_split\n",
        "X_train, X_test, Y_train, Y_test = train_test_split(X, Y, test_size = 0.30, random_state = 50)"
      ],
      "execution_count": 23,
      "outputs": []
    },
    {
      "cell_type": "markdown",
      "metadata": {
        "id": "YflNLLDTnMo1",
        "colab_type": "text"
      },
      "source": [
        "### **Model building, training and prediction**"
      ]
    },
    {
      "cell_type": "code",
      "metadata": {
        "id": "i2OhWyEjF9Ok",
        "colab_type": "code",
        "colab": {}
      },
      "source": [
        "# Machine Learning classification model libraries\n",
        "from sklearn.linear_model import LogisticRegression\n",
        "from sklearn.neighbors import KNeighborsClassifier\n",
        "from sklearn.svm import SVC\n",
        "from sklearn.tree import DecisionTreeClassifier\n",
        "from sklearn.ensemble import RandomForestClassifier\n",
        "from sklearn import metrics"
      ],
      "execution_count": 24,
      "outputs": []
    },
    {
      "cell_type": "code",
      "metadata": {
        "id": "CMvi4rsgGKRP",
        "colab_type": "code",
        "colab": {
          "base_uri": "https://localhost:8080/",
          "height": 187
        },
        "outputId": "f2da73a6-b2c5-4ce3-8f3a-aed2250ec72b"
      },
      "source": [
        "#Fit the logistic Regression Model\n",
        "lmodel = LogisticRegression(random_state=50)\n",
        "lmodel.fit(X_train,Y_train)\n",
        "\n",
        "#Predict the value for new, unseen data\n",
        "pred = lmodel.predict(X_test)\n",
        "\n",
        "# Find Accuracy using accuracy_score method\n",
        "lmodel_accuracy = round(metrics.accuracy_score(Y_test, pred) * 100, 2)"
      ],
      "execution_count": 25,
      "outputs": [
        {
          "output_type": "stream",
          "text": [
            "/usr/local/lib/python3.6/dist-packages/sklearn/linear_model/_logistic.py:940: ConvergenceWarning:\n",
            "\n",
            "lbfgs failed to converge (status=1):\n",
            "STOP: TOTAL NO. of ITERATIONS REACHED LIMIT.\n",
            "\n",
            "Increase the number of iterations (max_iter) or scale the data as shown in:\n",
            "    https://scikit-learn.org/stable/modules/preprocessing.html\n",
            "Please also refer to the documentation for alternative solver options:\n",
            "    https://scikit-learn.org/stable/modules/linear_model.html#logistic-regression\n",
            "\n"
          ],
          "name": "stderr"
        }
      ]
    },
    {
      "cell_type": "code",
      "metadata": {
        "id": "uSFJVf7KH4pp",
        "colab_type": "code",
        "colab": {}
      },
      "source": [
        "#Fit the K-Nearest Neighbor Model\n",
        "from sklearn.neighbors import KNeighborsClassifier\n",
        "knnmodel = KNeighborsClassifier(n_neighbors=5, metric='minkowski', p=2) #p=2 represents Euclidean distance, p=1 represents Manhattan Distance\n",
        "knnmodel.fit(X_train, Y_train) \n",
        "  \n",
        "#Predict the value for new, unseen data\n",
        "knn_pred = knnmodel.predict(X_test)\n",
        "\n",
        "# Find Accuracy using accuracy_score method\n",
        "knn_accuracy = round(metrics.accuracy_score(Y_test, knn_pred) * 100, 2)"
      ],
      "execution_count": 26,
      "outputs": []
    },
    {
      "cell_type": "code",
      "metadata": {
        "id": "sLAJUBtXIUNS",
        "colab_type": "code",
        "colab": {}
      },
      "source": [
        "#Fit the Decision Tree Classification Model\n",
        "from sklearn.tree import DecisionTreeClassifier\n",
        "dtmodel = DecisionTreeClassifier(criterion = \"gini\", random_state = 50)\n",
        "dtmodel.fit(X_train, Y_train) \n",
        "  \n",
        "#Predict the value for new, unseen data\n",
        "dt_pred = dtmodel.predict(X_test)\n",
        "\n",
        "# Find Accuracy using accuracy_score method\n",
        "dt_accuracy = round(metrics.accuracy_score(Y_test, dt_pred) * 100, 2)"
      ],
      "execution_count": 27,
      "outputs": []
    },
    {
      "cell_type": "code",
      "metadata": {
        "id": "jJ4UXn1zI1oJ",
        "colab_type": "code",
        "colab": {}
      },
      "source": [
        "#Fit the Random Forest Classification Model\n",
        "from sklearn.ensemble import RandomForestClassifier\n",
        "rfmodel = RandomForestClassifier(n_estimators = 100, criterion = 'entropy', random_state = 50)\n",
        "rfmodel.fit(X_train, Y_train) \n",
        "  \n",
        "#Predict the value for new, unseen data\n",
        "rf_pred = rfmodel.predict(X_test)\n",
        "\n",
        "# Find Accuracy using accuracy_score method\n",
        "rf_accuracy = round(metrics.accuracy_score(Y_test, rf_pred) * 100, 2)"
      ],
      "execution_count": 28,
      "outputs": []
    },
    {
      "cell_type": "code",
      "metadata": {
        "id": "GW5pXy9WLS7X",
        "colab_type": "code",
        "colab": {
          "base_uri": "https://localhost:8080/",
          "height": 173
        },
        "outputId": "64b815ae-a12f-444e-fd93-197185a1283c"
      },
      "source": [
        "# Compare Several models according to their Accuracies\n",
        "M_Comp = pd.DataFrame({\n",
        "    'Model': ['Logistic Regression', 'K-Nearest Neighbor', \n",
        "              'Decision Tree', 'Random Forest'],\n",
        "    'Score': [lmodel_accuracy, knn_accuracy, \n",
        "              dt_accuracy, rf_accuracy]})\n",
        "M_Comp_df = M_Comp.sort_values(by='Score', ascending=False)\n",
        "M_Comp_df = M_Comp_df.set_index('Score')\n",
        "M_Comp_df.reset_index()"
      ],
      "execution_count": 29,
      "outputs": [
        {
          "output_type": "execute_result",
          "data": {
            "text/html": [
              "<div>\n",
              "<style scoped>\n",
              "    .dataframe tbody tr th:only-of-type {\n",
              "        vertical-align: middle;\n",
              "    }\n",
              "\n",
              "    .dataframe tbody tr th {\n",
              "        vertical-align: top;\n",
              "    }\n",
              "\n",
              "    .dataframe thead th {\n",
              "        text-align: right;\n",
              "    }\n",
              "</style>\n",
              "<table border=\"1\" class=\"dataframe\">\n",
              "  <thead>\n",
              "    <tr style=\"text-align: right;\">\n",
              "      <th></th>\n",
              "      <th>Score</th>\n",
              "      <th>Model</th>\n",
              "    </tr>\n",
              "  </thead>\n",
              "  <tbody>\n",
              "    <tr>\n",
              "      <th>0</th>\n",
              "      <td>86.89</td>\n",
              "      <td>Random Forest</td>\n",
              "    </tr>\n",
              "    <tr>\n",
              "      <th>1</th>\n",
              "      <td>82.16</td>\n",
              "      <td>Logistic Regression</td>\n",
              "    </tr>\n",
              "    <tr>\n",
              "      <th>2</th>\n",
              "      <td>80.19</td>\n",
              "      <td>K-Nearest Neighbor</td>\n",
              "    </tr>\n",
              "    <tr>\n",
              "      <th>3</th>\n",
              "      <td>78.77</td>\n",
              "      <td>Decision Tree</td>\n",
              "    </tr>\n",
              "  </tbody>\n",
              "</table>\n",
              "</div>"
            ],
            "text/plain": [
              "   Score                Model\n",
              "0  86.89        Random Forest\n",
              "1  82.16  Logistic Regression\n",
              "2  80.19   K-Nearest Neighbor\n",
              "3  78.77        Decision Tree"
            ]
          },
          "metadata": {
            "tags": []
          },
          "execution_count": 29
        }
      ]
    },
    {
      "cell_type": "code",
      "metadata": {
        "id": "1Ke_lt3BLbeI",
        "colab_type": "code",
        "colab": {
          "base_uri": "https://localhost:8080/",
          "height": 51
        },
        "outputId": "1676fdd2-7177-4045-c0c0-d3188aaee280"
      },
      "source": [
        "#Generate confusion matrix for Random Forest model as it has maximum Accuracy\n",
        "from sklearn.metrics import confusion_matrix\n",
        "conf_mat_rfmodel = confusion_matrix(Y_test,pred)\n",
        "conf_mat_rfmodel"
      ],
      "execution_count": 30,
      "outputs": [
        {
          "output_type": "execute_result",
          "data": {
            "text/plain": [
              "array([[6904,   39],\n",
              "       [1480,   92]])"
            ]
          },
          "metadata": {
            "tags": []
          },
          "execution_count": 30
        }
      ]
    },
    {
      "cell_type": "code",
      "metadata": {
        "id": "1U9YWcKTMOSr",
        "colab_type": "code",
        "colab": {}
      },
      "source": [
        "# Predict the probability of Churn of each customer\n",
        "churn_data['Probability_of_Churn'] = rfmodel.predict_proba(churn_data[X_test.columns])[:,1]"
      ],
      "execution_count": 31,
      "outputs": []
    },
    {
      "cell_type": "code",
      "metadata": {
        "id": "4vCcAknjMalr",
        "colab_type": "code",
        "colab": {
          "base_uri": "https://localhost:8080/",
          "height": 204
        },
        "outputId": "98bed05f-7adb-4a70-8c87-149ec88b2471"
      },
      "source": [
        "# Create a Dataframe showcasing probability of Churn of each customer\n",
        "churn_data[['customer_id','Probability_of_Churn']].head()"
      ],
      "execution_count": 32,
      "outputs": [
        {
          "output_type": "execute_result",
          "data": {
            "text/html": [
              "<div>\n",
              "<style scoped>\n",
              "    .dataframe tbody tr th:only-of-type {\n",
              "        vertical-align: middle;\n",
              "    }\n",
              "\n",
              "    .dataframe tbody tr th {\n",
              "        vertical-align: top;\n",
              "    }\n",
              "\n",
              "    .dataframe thead th {\n",
              "        text-align: right;\n",
              "    }\n",
              "</style>\n",
              "<table border=\"1\" class=\"dataframe\">\n",
              "  <thead>\n",
              "    <tr style=\"text-align: right;\">\n",
              "      <th></th>\n",
              "      <th>customer_id</th>\n",
              "      <th>Probability_of_Churn</th>\n",
              "    </tr>\n",
              "  </thead>\n",
              "  <tbody>\n",
              "    <tr>\n",
              "      <th>0</th>\n",
              "      <td>1</td>\n",
              "      <td>0.02</td>\n",
              "    </tr>\n",
              "    <tr>\n",
              "      <th>1</th>\n",
              "      <td>2</td>\n",
              "      <td>0.49</td>\n",
              "    </tr>\n",
              "    <tr>\n",
              "      <th>2</th>\n",
              "      <td>4</td>\n",
              "      <td>0.10</td>\n",
              "    </tr>\n",
              "    <tr>\n",
              "      <th>3</th>\n",
              "      <td>5</td>\n",
              "      <td>0.76</td>\n",
              "    </tr>\n",
              "    <tr>\n",
              "      <th>4</th>\n",
              "      <td>6</td>\n",
              "      <td>0.81</td>\n",
              "    </tr>\n",
              "  </tbody>\n",
              "</table>\n",
              "</div>"
            ],
            "text/plain": [
              "   customer_id  Probability_of_Churn\n",
              "0            1                  0.02\n",
              "1            2                  0.49\n",
              "2            4                  0.10\n",
              "3            5                  0.76\n",
              "4            6                  0.81"
            ]
          },
          "metadata": {
            "tags": []
          },
          "execution_count": 32
        }
      ]
    }
  ]
}